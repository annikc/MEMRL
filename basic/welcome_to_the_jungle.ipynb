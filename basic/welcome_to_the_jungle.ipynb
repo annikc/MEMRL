{
 "cells": [
  {
   "cell_type": "markdown",
   "metadata": {},
   "source": [
    "# Gridworld Environments\n",
    "Gridworld environments are built to be OpenAI gym envrionments, instantiated with the call \n",
    "\n",
    "`gym.make(<name of environment>)` \n",
    "\n",
    "where the environment name is a string. You can see which envs have been registered to be called this way in\n",
    "` ./modules/Envs/gym-grid/__init__.py `\n",
    "\n"
   ]
  },
  {
   "cell_type": "code",
   "execution_count": 1,
   "metadata": {},
   "outputs": [],
   "source": [
    "import gym"
   ]
  },
  {
   "cell_type": "code",
   "execution_count": 35,
   "metadata": {},
   "outputs": [
    {
     "data": {
      "image/png": "[encoded data removed]",
      "text/plain": [
       "<Figure size 504x504 with 1 Axes>"
      ]
     },
     "metadata": {},
     "output_type": "display_data"
    }
   ],
   "source": [
    "env = gym.make('gym_grid:gridworld-v4')"
   ]
  },
  {
   "cell_type": "code",
   "execution_count": 36,
   "metadata": {},
   "outputs": [
    {
     "name": "stdout",
     "output_type": "stream",
     "text": [
      "State space (total number of states): 400\n",
      "--> States which the agent can occupy: 384\n",
      "--> States the agent cannot occupy: 16\n",
      "* print env.useable for valid states \n",
      "* print env.obstacles_2D for invalid states\n",
      "\n",
      "Action space (number of actions): Discrete(4)\n",
      "--> Available actions: ['Down', 'Up', 'Right', 'Left'] \n",
      "--> Action Dictionary: {'D': 0, 'U': 1, 'R': 2, 'L': 3}\n",
      "\n",
      "Transition matrix: (4, 400, 400) \n",
      "* print env.P for whole transition matrix\n",
      "\n",
      "Rewards at {(5, 5): 10} \n",
      "* Rewrite reward function with env.set_reward(dictionary_of_rewards)\n",
      "Each non-reward step carries penalty: -0.01\n",
      "Rewarded action: None \n",
      "* If specific action is rewarded, \n",
      "   env.R.shape = (env.nstates x env.n_actions) \n",
      "  else, env.R.shape = env.nstates\n",
      "Reward function: (400,) \n",
      "* print env.R for whole reward function\n"
     ]
    }
   ],
   "source": [
    "# valid states \n",
    "print(f'State space (total number of states): {env.nstates}')\n",
    "print(f'--> States which the agent can occupy: {len(env.useable)}\\n--> States the agent cannot occupy: {len(env.obstacles_list)}')\n",
    "print('* print env.useable for valid states \\n* print env.obstacles_2D for invalid states')\n",
    "# available actions\n",
    "print(f'\\nAction space (number of actions): {env.action_space}')\n",
    "print(f'--> Available actions: {env.action_list} \\n--> Action Dictionary: {env.action_dict}')\n",
    "\n",
    "# transition matrix\n",
    "print(f'\\nTransition matrix: {env.P.shape} \\n* print env.P for whole transition matrix')\n",
    "\n",
    "# reward function\n",
    "print(f'\\nRewards at {env.rewards} \\n* Rewrite reward function with env.set_reward(dictionary_of_rewards)')\n",
    "print(f'Each non-reward step carries penalty: {env.step_penalization}')\n",
    "print(f'Rewarded action: {env.rwd_action} \\n* If specific action is rewarded, \\n   env.R.shape = (env.nstates x env.n_actions) \\n  else, env.R.shape = env.nstates')\n",
    "print(f'Reward function: {env.R.shape} \\n* print env.R for whole reward function')"
   ]
  },
  {
   "cell_type": "code",
   "execution_count": 37,
   "metadata": {},
   "outputs": [
    {
     "name": "stdout",
     "output_type": "stream",
     "text": [
      "State is 103\n",
      "Agent takes action 0\n",
      "Agent observes reward -0.01\n",
      "State is now 123\n"
     ]
    }
   ],
   "source": [
    "# moves are made in the environment with \n",
    "# integer values representing actions\n",
    "\n",
    "#env.set_state(100) # can set state with integer value\n",
    "\n",
    "print(f'State is {env.state}')\n",
    "action = 0 # Down\n",
    "next_state, reward, done, debug_info = env.step(action)\n",
    "print(f'Agent takes action {action}')\n",
    "print(f'Agent observes reward {reward}')\n",
    "print(f'State is now {next_state}')"
   ]
  },
  {
   "cell_type": "markdown",
   "metadata": {},
   "source": [
    "# Agents\n",
    "Agent class is a container which handles interaction with the environment. The class is built to use a neural network for action selection, but can be modified to use a tabular solution method. \n",
    "\n",
    "The agent class is defined in `./modules/Agents/__init__.py`\n",
    "\n",
    "It takes a pytorch network object as input (several types defined in `./modules/Agents/Networks/`). New networks should be written in stand alone files and imported by `./modules/Agents/Networks/__init__.py` so that everything can just be imported from modules.Agents.Networks "
   ]
  },
  {
   "cell_type": "code",
   "execution_count": 40,
   "metadata": {},
   "outputs": [
    {
     "name": "stdout",
     "output_type": "stream",
     "text": [
      "fully_connected_AC_network(\n",
      "  (fc1): Linear(in_features=400, out_features=200, bias=True)\n",
      "  (fc2): Linear(in_features=200, out_features=200, bias=True)\n",
      "  (pol): Linear(in_features=200, out_features=4, bias=True)\n",
      "  (val): Linear(in_features=200, out_features=1, bias=True)\n",
      ")\n"
     ]
    }
   ],
   "source": [
    "# import a fully connected deep actor-critic network\n",
    "from modules.Agents.Networks import ActorCritic as Network \n",
    "\n",
    "network = Network(input_dims=[env.nstates], fc1_dims=200, \n",
    "                  fc2_dims=200, output_dims=env.action_space.n, \n",
    "                  lr=0.001)\n",
    "print(network)"
   ]
  },
  {
   "cell_type": "code",
   "execution_count": 43,
   "metadata": {},
   "outputs": [],
   "source": [
    "# import memory module \n",
    "from modules.Agents.EpisodicMemory import EpisodicMemory as Memory\n",
    "\n",
    "memory = Memory(entry_size=env.action_space.n,\n",
    "                cache_limit=env.nstates)"
   ]
  },
  {
   "cell_type": "markdown",
   "metadata": {},
   "source": [
    "Agents take a dictionary of state representations to convert numerical state given by the environment to an appropriate input for the neural network. \n",
    "\n",
    "__This should be changed in the future!!__"
   ]
  },
  {
   "cell_type": "code",
   "execution_count": 46,
   "metadata": {},
   "outputs": [],
   "source": [
    "## make some onehot representations\n",
    "import numpy as np \n",
    "state_reps = {}\n",
    "for i in range(env.nstates):\n",
    "    vec = np.zeros(env.nstates)\n",
    "    vec[i] = 1\n",
    "    state_reps[i] = vec"
   ]
  },
  {
   "cell_type": "code",
   "execution_count": 47,
   "metadata": {},
   "outputs": [],
   "source": [
    "# package network in agent \n",
    "from modules.Agents import Agent\n",
    "\n",
    "model_free_agent = Agent(network, state_representations=state_reps) # memory defaults to None\n",
    "memory_agent     = Agent(network, memory, state_representations=state_reps)"
   ]
  },
  {
   "cell_type": "code",
   "execution_count": 52,
   "metadata": {},
   "outputs": [
    {
     "name": "stdout",
     "output_type": "stream",
     "text": [
      "123\n",
      "MF selects 0, EC selects 0\n"
     ]
    }
   ],
   "source": [
    "state = env.state\n",
    "print(f'State: {state}')\n",
    "# get onehot representation of state\n",
    "obs = model_free_agent.get_state_representation(state)\n",
    "\n",
    "# by default the Agent with no memory module selects actions from \n",
    "# the network output (policy)\n",
    "MF_action, _, __ = model_free_agent.get_action(obs)\n",
    "# by default the Agent *WITH* memory selects actions from the \n",
    "# memory module \n",
    "EC_action, _, __ = memory_agent.get_action(obs)\n",
    "\n",
    "print(f\"MF selects {MF_action}, EC selects {EC_action}\")\n"
   ]
  },
  {
   "cell_type": "markdown",
   "metadata": {},
   "source": [
    "# Putting Everything together to run something\n",
    "## Experiment Class \n",
    "The experiment class is a set of functions for running the agent in the environment, learning, and recording results. A few types of experiment classes can be found in `./modules/Experiments/__init__.py`"
   ]
  },
  {
   "cell_type": "code",
   "execution_count": 62,
   "metadata": {},
   "outputs": [],
   "source": [
    "from modules.Experiments import expt ## most basic experiment \n",
    "# - uses whatever action selection mechanism is default for agent\n",
    "\n",
    "expt1 = expt(model_free_agent,env)\n",
    "expt2 = expt(memory_agent,env)\n"
   ]
  },
  {
   "cell_type": "code",
   "execution_count": 63,
   "metadata": {},
   "outputs": [
    {
     "name": "stdout",
     "output_type": "stream",
     "text": [
      "Episode: 0, Score: 9.99 (Running Avg:9.99) [0.14060401916503906s]\n",
      "Episode: 100, Score: 9.94 (Running Avg:7.735555555555556) [19.672541618347168s]\n",
      "Episode: 200, Score: 9.75 (Running Avg:7.944444444444446) [9.32349681854248s]\n",
      "Episode: 300, Score: 9.95 (Running Avg:9.568888888888887) [7.384064435958862s]\n",
      "Episode: 400, Score: 9.75 (Running Avg:9.690000000000001) [5.722673177719116s]\n",
      "Episode: 500, Score: 9.76 (Running Avg:9.714444444444444) [5.390060663223267s]\n",
      "Episode: 600, Score: 9.81 (Running Avg:9.821111111111112) [4.8442370891571045s]\n",
      "Episode: 700, Score: 9.7 (Running Avg:9.79888888888889) [5.120604753494263s]\n",
      "Episode: 800, Score: 9.9 (Running Avg:9.803333333333335) [4.923858165740967s]\n",
      "Episode: 900, Score: 9.83 (Running Avg:9.843333333333332) [4.707856893539429s]\n",
      "Episode: 0, Score: 9.88 (Running Avg:9.88) [0.04360508918762207s]\n",
      "Episode: 10, Score: 9.77 (Running Avg:9.817272727272726) [0.521273136138916s]\n",
      "Episode: 20, Score: 9.88 (Running Avg:9.814444444444444) [0.5102603435516357s]\n",
      "Episode: 30, Score: 9.81 (Running Avg:9.767777777777777) [0.5671906471252441s]\n",
      "Episode: 40, Score: 9.8 (Running Avg:9.793333333333333) [0.532289981842041s]\n",
      "Episode: 50, Score: 9.9 (Running Avg:9.78888888888889) [0.5309939384460449s]\n",
      "Episode: 60, Score: 9.73 (Running Avg:9.865555555555554) [0.4662361145019531s]\n",
      "Episode: 70, Score: 9.87 (Running Avg:9.872222222222222) [0.47811460494995117s]\n",
      "Episode: 80, Score: 9.77 (Running Avg:9.92111111111111) [0.4309055805206299s]\n",
      "Episode: 90, Score: 9.88 (Running Avg:9.796666666666667) [0.5528213977813721s]\n",
      "Episode: 100, Score: 9.79 (Running Avg:9.792222222222222) [0.5346341133117676s]\n",
      "Episode: 110, Score: 9.82 (Running Avg:9.823333333333334) [0.5301923751831055s]\n",
      "Episode: 120, Score: 9.86 (Running Avg:9.777777777777779) [0.5492565631866455s]\n",
      "Episode: 130, Score: 9.73 (Running Avg:9.834444444444443) [0.5036284923553467s]\n",
      "Episode: 140, Score: 9.8 (Running Avg:9.855555555555554) [0.48287034034729004s]\n",
      "Episode: 150, Score: 9.93 (Running Avg:9.864444444444445) [0.43776726722717285s]\n",
      "Episode: 160, Score: 9.65 (Running Avg:9.845555555555556) [0.5006365776062012s]\n",
      "Episode: 170, Score: 9.92 (Running Avg:9.843333333333334) [0.46525120735168457s]\n",
      "Episode: 180, Score: 9.69 (Running Avg:9.82) [0.5256340503692627s]\n",
      "Episode: 190, Score: 9.92 (Running Avg:9.785555555555556) [0.539039134979248s]\n",
      "Episode: 200, Score: 9.73 (Running Avg:9.846666666666668) [0.4945847988128662s]\n",
      "Episode: 210, Score: 9.81 (Running Avg:9.842222222222222) [0.47716641426086426s]\n",
      "Episode: 220, Score: 9.66 (Running Avg:9.818888888888889) [0.5206334590911865s]\n",
      "Episode: 230, Score: 9.75 (Running Avg:9.833333333333334) [0.5033082962036133s]\n",
      "Episode: 240, Score: 9.93 (Running Avg:9.835555555555555) [0.47063183784484863s]\n",
      "Episode: 250, Score: 9.85 (Running Avg:9.826666666666668) [0.49838685989379883s]\n",
      "Episode: 260, Score: 9.83 (Running Avg:9.832222222222223) [0.4907188415527344s]\n",
      "Episode: 270, Score: 9.709999999999999 (Running Avg:9.873333333333333) [0.47522902488708496s]\n",
      "Episode: 280, Score: 9.9 (Running Avg:9.822222222222223) [0.49673032760620117s]\n",
      "Episode: 290, Score: 9.96 (Running Avg:9.871111111111112) [0.4238395690917969s]\n",
      "Episode: 300, Score: 9.84 (Running Avg:9.82333333333333) [0.49936389923095703s]\n",
      "Episode: 310, Score: 9.88 (Running Avg:9.816666666666668) [0.5060791969299316s]\n",
      "Episode: 320, Score: 9.85 (Running Avg:9.83222222222222) [0.49307751655578613s]\n",
      "Episode: 330, Score: 10.0 (Running Avg:9.850000000000001) [0.4560356140136719s]\n",
      "Episode: 340, Score: 9.93 (Running Avg:9.8) [0.5141830444335938s]\n",
      "Episode: 350, Score: 9.88 (Running Avg:9.79888888888889) [0.5248839855194092s]\n",
      "Episode: 360, Score: 9.9 (Running Avg:9.841111111111111) [0.4719412326812744s]\n",
      "Episode: 370, Score: 9.79 (Running Avg:9.848888888888887) [0.4870915412902832s]\n",
      "Episode: 380, Score: 9.83 (Running Avg:9.832222222222223) [0.49248361587524414s]\n",
      "Episode: 390, Score: 9.88 (Running Avg:9.877777777777778) [0.44384288787841797s]\n",
      "Episode: 400, Score: 9.84 (Running Avg:9.856666666666667) [0.45878148078918457s]\n",
      "Episode: 410, Score: 9.8 (Running Avg:9.796666666666667) [0.5307703018188477s]\n",
      "Episode: 420, Score: 9.85 (Running Avg:9.833333333333334) [0.4947834014892578s]\n",
      "Episode: 430, Score: 9.69 (Running Avg:9.818888888888889) [0.5212259292602539s]\n",
      "Episode: 440, Score: 9.86 (Running Avg:9.842222222222224) [0.4777400493621826s]\n",
      "Episode: 450, Score: 9.73 (Running Avg:9.85) [0.5017378330230713s]\n",
      "Episode: 460, Score: 9.87 (Running Avg:9.811111111111112) [0.5099053382873535s]\n",
      "Episode: 470, Score: 9.87 (Running Avg:9.831111111111111) [0.48724985122680664s]\n",
      "Episode: 480, Score: 9.88 (Running Avg:9.804444444444446) [0.5241944789886475s]\n",
      "Episode: 490, Score: 9.87 (Running Avg:9.83888888888889) [0.47421979904174805s]\n",
      "Episode: 500, Score: 9.92 (Running Avg:9.81) [0.5069186687469482s]\n",
      "Episode: 510, Score: 9.99 (Running Avg:9.894444444444446) [0.4142735004425049s]\n",
      "Episode: 520, Score: 9.83 (Running Avg:9.753333333333334) [0.5718395709991455s]\n",
      "Episode: 530, Score: 9.93 (Running Avg:9.886666666666667) [0.41730546951293945s]\n",
      "Episode: 540, Score: 9.83 (Running Avg:9.87) [0.4537370204925537s]\n",
      "Episode: 550, Score: 9.91 (Running Avg:9.793333333333331) [0.5131840705871582s]\n",
      "Episode: 560, Score: 9.83 (Running Avg:9.862222222222222) [0.46306824684143066s]\n",
      "Episode: 570, Score: 10.0 (Running Avg:9.824444444444445) [0.4734773635864258s]\n",
      "Episode: 580, Score: 9.77 (Running Avg:9.824444444444445) [0.5081102848052979s]\n",
      "Episode: 590, Score: 9.82 (Running Avg:9.848888888888887) [0.46857762336730957s]\n",
      "Episode: 600, Score: 9.92 (Running Avg:9.873333333333333) [0.45047497749328613s]\n",
      "Episode: 610, Score: 9.95 (Running Avg:9.835555555555555) [0.4635746479034424s]\n",
      "Episode: 620, Score: 9.97 (Running Avg:9.83) [0.48307108879089355s]\n",
      "Episode: 630, Score: 9.92 (Running Avg:9.793333333333333) [0.5263924598693848s]\n",
      "Episode: 640, Score: 9.85 (Running Avg:9.835555555555556) [0.4770171642303467s]\n",
      "Episode: 650, Score: 9.85 (Running Avg:9.823333333333332) [0.4965512752532959s]\n",
      "Episode: 660, Score: 9.69 (Running Avg:9.856666666666666) [0.4756336212158203s]\n",
      "Episode: 670, Score: 9.59 (Running Avg:9.855555555555558) [0.4985647201538086s]\n",
      "Episode: 680, Score: 9.82 (Running Avg:9.846666666666668) [0.470684289932251s]\n",
      "Episode: 690, Score: 9.84 (Running Avg:9.825555555555557) [0.4941864013671875s]\n",
      "Episode: 700, Score: 9.85 (Running Avg:9.857777777777779) [0.4600505828857422s]\n",
      "Episode: 710, Score: 9.87 (Running Avg:9.80888888888889) [0.5066506862640381s]\n",
      "Episode: 720, Score: 9.75 (Running Avg:9.799999999999999) [0.5301783084869385s]\n",
      "Episode: 730, Score: 9.96 (Running Avg:9.858888888888888) [0.44950366020202637s]\n",
      "Episode: 740, Score: 9.88 (Running Avg:9.846666666666668) [0.48550987243652344s]\n",
      "Episode: 750, Score: 9.76 (Running Avg:9.858888888888892) [0.491349458694458s]\n",
      "Episode: 760, Score: 9.76 (Running Avg:9.861111111111109) [0.47691988945007324s]\n",
      "Episode: 770, Score: 9.95 (Running Avg:9.821111111111112) [0.6483321189880371s]\n",
      "Episode: 780, Score: 9.79 (Running Avg:9.83222222222222) [0.7000472545623779s]\n",
      "Episode: 790, Score: 9.83 (Running Avg:9.842222222222224) [0.527374267578125s]\n",
      "Episode: 800, Score: 9.73 (Running Avg:9.79111111111111) [0.6549954414367676s]\n",
      "Episode: 810, Score: 9.85 (Running Avg:9.833333333333332) [0.6117966175079346s]\n",
      "Episode: 820, Score: 9.87 (Running Avg:9.84) [0.6209428310394287s]\n",
      "Episode: 830, Score: 9.95 (Running Avg:9.871111111111112) [0.49080729484558105s]\n",
      "Episode: 840, Score: 9.8 (Running Avg:9.852222222222222) [0.5485720634460449s]\n",
      "Episode: 850, Score: 9.65 (Running Avg:9.852222222222224) [0.5239276885986328s]\n",
      "Episode: 860, Score: 9.77 (Running Avg:9.871111111111112) [0.5374226570129395s]\n",
      "Episode: 870, Score: 9.82 (Running Avg:9.88) [0.48055052757263184s]\n",
      "Episode: 880, Score: 9.89 (Running Avg:9.895555555555555) [0.4552803039550781s]\n",
      "Episode: 890, Score: 9.89 (Running Avg:9.824444444444445) [0.5125489234924316s]\n",
      "Episode: 900, Score: 9.77 (Running Avg:9.806666666666667) [0.5313704013824463s]\n",
      "Episode: 910, Score: 9.92 (Running Avg:9.816666666666668) [0.5106832981109619s]\n",
      "Episode: 920, Score: 9.96 (Running Avg:9.884444444444446) [0.4461338520050049s]\n",
      "Episode: 930, Score: 9.88 (Running Avg:9.855555555555554) [0.4806406497955322s]\n",
      "Episode: 940, Score: 9.9 (Running Avg:9.825555555555557) [0.5039176940917969s]\n"
     ]
    },
    {
     "name": "stdout",
     "output_type": "stream",
     "text": [
      "Episode: 950, Score: 9.93 (Running Avg:9.836666666666666) [0.47562479972839355s]\n",
      "Episode: 960, Score: 9.92 (Running Avg:9.84888888888889) [0.4642341136932373s]\n",
      "Episode: 970, Score: 9.88 (Running Avg:9.767777777777777) [0.5484180450439453s]\n",
      "Episode: 980, Score: 9.74 (Running Avg:9.853333333333333) [0.46880102157592773s]\n",
      "Episode: 990, Score: 9.89 (Running Avg:9.866666666666667) [0.44767260551452637s]\n"
     ]
    }
   ],
   "source": [
    "# experiments are run with expt.run() and log data in a dictionary \n",
    "# expt.data\n",
    "num_episodes = 1000\n",
    "num_events_per_episode = 250\n",
    "\n",
    "expt1.run(num_episodes, num_events_per_episode) \n",
    "expt2.run(num_episodes, num_events_per_episode,printfreq=10)"
   ]
  },
  {
   "cell_type": "code",
   "execution_count": 64,
   "metadata": {},
   "outputs": [
    {
     "data": {
      "image/png": "[encoded data removed]",
      "text/plain": [
       "<Figure size 432x288 with 1 Axes>"
      ]
     },
     "metadata": {
      "needs_background": "light"
     },
     "output_type": "display_data"
    }
   ],
   "source": [
    "#plot results \n",
    "import matplotlib.pyplot as plt \n",
    "plt.plot(expt1.data['total_reward'], label='MF')\n",
    "plt.plot(expt2.data['total_reward'], label='EC')\n",
    "plt.legend(loc=0)\n",
    "plt.show()"
   ]
  },
  {
   "cell_type": "code",
   "execution_count": null,
   "metadata": {},
   "outputs": [],
   "source": []
  }
 ],
 "metadata": {
  "kernelspec": {
   "display_name": "Python 3",
   "language": "python",
   "name": "python3"
  },
  "language_info": {
   "codemirror_mode": {
    "name": "ipython",
    "version": 3
   },
   "file_extension": ".py",
   "mimetype": "text/x-python",
   "name": "python",
   "nbconvert_exporter": "python",
   "pygments_lexer": "ipython3",
   "version": "3.8.5"
  }
 },
 "nbformat": 4,
 "nbformat_minor": 4
}
