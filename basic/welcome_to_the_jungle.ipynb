{
 "cells": [
  {
   "cell_type": "markdown",
   "metadata": {},
   "source": [
    "# Gridworld Environments\n",
    "Gridworld environments are built to be OpenAI gym envrionments, instantiated with the call \n",
    "\n",
    "`gym.make(<name of environment>)` \n",
    "\n",
    "where the environment name is a string. You can see which envs have been registered to be called this way in\n",
    "` ./modules/Envs/gym_grid/__init__.py `\n",
    "\n"
   ]
  },
  {
   "cell_type": "code",
   "execution_count": 3,
   "metadata": {},
   "outputs": [],
   "source": [
    "import gym"
   ]
  },
  {
   "cell_type": "code",
   "execution_count": 4,
   "metadata": {},
   "outputs": [
    {
     "data": {
      "image/png": "[encoded data removed]",
      "text/plain": [
       "<Figure size 504x504 with 1 Axes>"
      ]
     },
     "metadata": {},
     "output_type": "display_data"
    }
   ],
   "source": [
    "env = gym.make('gridworld:gridworld-v3')"
   ]
  },
  {
   "cell_type": "code",
   "execution_count": null,
   "metadata": {},
   "outputs": [],
   "source": [
    "# valid states \n",
    "print(f'State space (total number of states): {env.nstates}')\n",
    "print(f'--> States which the agent can occupy: {len(env.useable)}\\n--> States the agent cannot occupy: {len(env.obstacles_list)}')\n",
    "print('* print env.useable for valid states \\n* print env.obstacles_2D for invalid states')\n",
    "# available actions\n",
    "print(f'\\nAction space (number of actions): {env.action_space}')\n",
    "print(f'--> Available actions: {env.action_list} \\n--> Action Dictionary: {env.action_dict}')\n",
    "\n",
    "# transition matrix\n",
    "print(f'\\nTransition matrix: {env.P.shape} \\n* print env.P for whole transition matrix')\n",
    "\n",
    "# reward function\n",
    "print(f'\\nRewards at {env.rewards} \\n* Rewrite reward function with env.set_reward(dictionary_of_rewards)')\n",
    "print(f'Each non-reward step carries penalty: {env.step_penalization}')\n",
    "print(f'Rewarded action: {env.rwd_action} \\n* If specific action is rewarded, \\n   env.R.shape = (env.nstates x env.n_actions) \\n  else, env.R.shape = env.nstates')\n",
    "print(f'Reward function: {env.R.shape} \\n* print env.R for whole reward function')"
   ]
  },
  {
   "cell_type": "code",
   "execution_count": null,
   "metadata": {},
   "outputs": [],
   "source": [
    "# moves are made in the environment with \n",
    "# integer values representing actions\n",
    "\n",
    "#env.set_state(100) # can set state with integer value\n",
    "\n",
    "print(f'State is {env.state}')\n",
    "action = 0 # Down\n",
    "next_state, reward, done, debug_info = env.step(action)\n",
    "print(f'Agent takes action {action}')\n",
    "print(f'Agent observes reward {reward}')\n",
    "print(f'State is now {next_state}')"
   ]
  },
  {
   "cell_type": "markdown",
   "metadata": {},
   "source": [
    "# Agents\n",
    "Agent class is a container which handles interaction with the environment. The class is built to use a neural network for action selection, but can be modified to use a tabular solution method. \n",
    "\n",
    "The agent class is defined in `./modules/Agents/__init__.py`\n",
    "\n",
    "It takes a pytorch network object as input (several types defined in `./modules/Agents/Networks/`). New networks should be written in stand alone files and imported by `./modules/Agents/Networks/__init__.py` so that everything can just be imported from modules.Agents.Networks "
   ]
  },
  {
   "cell_type": "code",
   "execution_count": null,
   "metadata": {},
   "outputs": [],
   "source": [
    "# import a fully connected deep actor-critic network\n",
    "from modules.Agents.Networks import ActorCritic as Network \n",
    "\n",
    "network = Network(input_dims=[env.nstates], fc1_dims=200, \n",
    "                  fc2_dims=200, output_dims=env.action_space.n, \n",
    "                  lr=0.001)\n",
    "print(network)"
   ]
  },
  {
   "cell_type": "code",
   "execution_count": null,
   "metadata": {},
   "outputs": [],
   "source": [
    "# import memory module \n",
    "from modules.Agents.EpisodicMemory import EpisodicMemory as Memory\n",
    "\n",
    "memory = Memory(entry_size=env.action_space.n,\n",
    "                cache_limit=env.nstates)"
   ]
  },
  {
   "cell_type": "markdown",
   "metadata": {},
   "source": [
    "Agents take a dictionary of state representations to convert numerical state given by the environment to an appropriate input for the neural network. \n",
    "\n",
    "__This should be changed in the future!!__"
   ]
  },
  {
   "cell_type": "code",
   "execution_count": null,
   "metadata": {},
   "outputs": [],
   "source": [
    "## make some onehot representations\n",
    "import numpy as np \n",
    "state_reps = {}\n",
    "for i in range(env.nstates):\n",
    "    vec = np.zeros(env.nstates)\n",
    "    vec[i] = 1\n",
    "    state_reps[i] = vec"
   ]
  },
  {
   "cell_type": "code",
   "execution_count": null,
   "metadata": {},
   "outputs": [],
   "source": [
    "# package network in agent \n",
    "from modules.Agents import Agent\n",
    "\n",
    "model_free_agent = Agent(network, state_representations=state_reps) # memory defaults to None\n",
    "memory_agent     = Agent(network, memory, state_representations=state_reps)"
   ]
  },
  {
   "cell_type": "code",
   "execution_count": null,
   "metadata": {},
   "outputs": [],
   "source": [
    "state = env.state\n",
    "print(f'State: {state}')\n",
    "# get onehot representation of state\n",
    "obs = model_free_agent.get_state_representation(state)\n",
    "\n",
    "# by default the Agent with no memory module selects actions from \n",
    "# the network output (policy)\n",
    "MF_action, _, __ = model_free_agent.get_action(obs)\n",
    "# by default the Agent *WITH* memory selects actions from the \n",
    "# memory module \n",
    "EC_action, _, __ = memory_agent.get_action(obs)\n",
    "\n",
    "print(f\"MF selects {MF_action}, EC selects {EC_action}\")\n"
   ]
  },
  {
   "cell_type": "markdown",
   "metadata": {},
   "source": [
    "# Putting Everything together to run something\n",
    "## Experiment Class \n",
    "The experiment class is a set of functions for running the agent in the environment, learning, and recording results. A few types of experiment classes can be found in `./modules/Experiments/__init__.py`"
   ]
  },
  {
   "cell_type": "code",
   "execution_count": null,
   "metadata": {},
   "outputs": [],
   "source": [
    "from modules.Experiments import expt ## most basic experiment \n",
    "# - uses whatever action selection mechanism is default for agent\n",
    "\n",
    "expt1 = expt(model_free_agent,env)\n",
    "expt2 = expt(memory_agent,env)\n"
   ]
  },
  {
   "cell_type": "code",
   "execution_count": null,
   "metadata": {},
   "outputs": [],
   "source": [
    "# experiments are run with expt.run() and log data in a dictionary \n",
    "# expt.data\n",
    "num_episodes = 1000\n",
    "num_events_per_episode = 250\n",
    "\n",
    "expt1.run(num_episodes, num_events_per_episode) \n",
    "expt2.run(num_episodes, num_events_per_episode,printfreq=10)"
   ]
  },
  {
   "cell_type": "code",
   "execution_count": null,
   "metadata": {},
   "outputs": [],
   "source": [
    "#plot results \n",
    "import matplotlib.pyplot as plt \n",
    "plt.plot(expt1.data['total_reward'], label='MF')\n",
    "plt.plot(expt2.data['total_reward'], label='EC')\n",
    "plt.legend(loc=0)\n",
    "plt.show()"
   ]
  },
  {
   "cell_type": "code",
   "execution_count": null,
   "metadata": {},
   "outputs": [],
   "source": []
  },
  {
   "cell_type": "code",
   "execution_count": null,
   "metadata": {},
   "outputs": [],
   "source": []
  },
  {
   "cell_type": "code",
   "execution_count": null,
   "metadata": {},
   "outputs": [],
   "source": []
  },
  {
   "cell_type": "code",
   "execution_count": null,
   "metadata": {},
   "outputs": [],
   "source": []
  },
  {
   "cell_type": "code",
   "execution_count": null,
   "metadata": {},
   "outputs": [],
   "source": []
  }
 ],
 "metadata": {
  "kernelspec": {
   "display_name": "Python 3",
   "language": "python",
   "name": "python3"
  },
  "language_info": {
   "codemirror_mode": {
    "name": "ipython",
    "version": 3
   },
   "file_extension": ".py",
   "mimetype": "text/x-python",
   "name": "python",
   "nbconvert_exporter": "python",
   "pygments_lexer": "ipython3",
   "version": "3.8.5"
  }
 },
 "nbformat": 4,
 "nbformat_minor": 4
}
