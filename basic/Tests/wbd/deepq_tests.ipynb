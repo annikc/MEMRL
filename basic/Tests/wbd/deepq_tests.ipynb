{
 "cells": [
  {
   "cell_type": "code",
   "execution_count": 1,
   "metadata": {},
   "outputs": [],
   "source": [
    "import torch\n",
    "import gym\n",
    "import numpy as np\n",
    "import matplotlib.pyplot as plt\n",
    "import sys\n",
    "sys.path.append('../../../modules/')\n",
    "from Agents.RepresentationLearning import PlaceCells\n",
    "from Agents import DQ_agent"
   ]
  },
  {
   "cell_type": "code",
   "execution_count": 2,
   "metadata": {},
   "outputs": [],
   "source": [
    "def one_hot_state(state):\n",
    "    vec = np.zeros(env.nstates)\n",
    "    vec[state] = 1\n",
    "    return vec\n",
    "\n",
    "def onehot_state_collection(env):\n",
    "    collection = []\n",
    "    for state in range(env.nstates):\n",
    "        vec = one_hot_state(state)\n",
    "        collection.append(vec)\n",
    "    return collection\n",
    "\n",
    "def twoD_states(env):\n",
    "    twods = []\n",
    "    for state in range(env.nstates):\n",
    "        twod = env.oneD2twoD(state)\n",
    "        twods.append(twod)\n",
    "    return twods\n",
    "\n",
    "def plot_some_place_fields(env, list_of_coords, place_cells):\n",
    "    states = np.asarray(list_of_coords)\n",
    "    gridworld_pc_reps = place_cells.get_activities(list_of_coords)\n",
    "\n",
    "    num_pc_view = 9\n",
    "    get_rand_cells = np.random.choice(env.nstates,num_pc_view,replace=False)\n",
    "\n",
    "    fig, axes = plt.subplots(3,3)\n",
    "\n",
    "    for i, ax in enumerate(axes.flat):\n",
    "        # for every state, get what the place cell activity is\n",
    "        ax.scatter(states[:,0],states[:,1], c =gridworld_pc_reps[:,get_rand_cells[i]])\n",
    "        cell_center = np.round(np.multiply(place_cells.cell_centres[get_rand_cells[i]],env.shape),1)\n",
    "        print(cell_center)\n",
    "        ax.set_title(f'{cell_center}')\n",
    "        ax.set_yticks([])\n",
    "        ax.set_xticks([])\n",
    "    plt.show()\n"
   ]
  },
  {
   "cell_type": "code",
   "execution_count": 14,
   "metadata": {},
   "outputs": [
    {
     "data": {
      "image/png": "[encoded data removed]",
      "text/plain": [
       "<Figure size 176.4x176.4 with 1 Axes>"
      ]
     },
     "metadata": {},
     "output_type": "display_data"
    }
   ],
   "source": [
    "env = gym.make('gym_grid:gridworld-v111')"
   ]
  },
  {
   "cell_type": "code",
   "execution_count": 15,
   "metadata": {},
   "outputs": [],
   "source": [
    "# get onehot activity vectors \n",
    "gridworld_onehots = onehot_state_collection(env)\n",
    "\n",
    "# get place cell activity vectors \n",
    "# make a collection of place cells\n",
    "place_cells       = PlaceCells(env.shape,env.nstates, field_size=1/env.shape[0])\n",
    "\n",
    "two_d_states = twoD_states(env) # get all states as coords\n",
    "# get activities for each state\n",
    "gridworld_pc_reps = place_cells.get_activities(two_d_states)"
   ]
  },
  {
   "cell_type": "code",
   "execution_count": 16,
   "metadata": {},
   "outputs": [
    {
     "name": "stdout",
     "output_type": "stream",
     "text": [
      "State Reps for state 25:(3, 4)\n"
     ]
    },
    {
     "data": {
      "image/png": "[encoded data removed]",
      "text/plain": [
       "<Figure size 432x288 with 2 Axes>"
      ]
     },
     "metadata": {
      "needs_background": "light"
     },
     "output_type": "display_data"
    }
   ],
   "source": [
    "# print onehot activity vector and place cell activity vector for a given state\n",
    "test_state = 25\n",
    "print(f'State Reps for state {test_state}:{two_d_states[test_state]}')\n",
    "fig, ax = plt.subplots(2,1,sharex=True)\n",
    "ax[0].imshow([gridworld_onehots[test_state]])\n",
    "ax[0].set_aspect('auto')\n",
    "ax[0].set_title('Onehot Rep')\n",
    "ax[1].imshow([gridworld_pc_reps[test_state]])\n",
    "ax[1].set_aspect('auto')\n",
    "ax[1].set_title('Place Cell Rep')\n",
    "\n",
    "plt.show()"
   ]
  },
  {
   "cell_type": "code",
   "execution_count": null,
   "metadata": {},
   "outputs": [],
   "source": [
    "# set up agent parameters\n",
    "INPUT_DIMS = [env.nstates]\n",
    "N_ACTIONS  = env.action_space.n\n",
    "BATCH_SIZE = 64\n",
    "GAMMA      = 0.98\n",
    "EPSILON    = 1.0\n",
    "LR         = 0.01\n",
    "\n",
    "onehot_agent = DQ_agent(gamma=GAMMA, epsilon=EPSILON, lr=LR,\n",
    "                       input_dims=INPUT_DIMS, batch_size=BATCH_SIZE,\n",
    "                       n_actions=N_ACTIONS)\n",
    "placecell_agent = DQ_agent(gamma=GAMMA, epsilon=EPSILON, lr=LR,\n",
    "                       input_dims=INPUT_DIMS, batch_size=BATCH_SIZE,\n",
    "                       n_actions=N_ACTIONS)"
   ]
  },
  {
   "cell_type": "code",
   "execution_count": null,
   "metadata": {},
   "outputs": [],
   "source": [
    "def run_expt(ntrials, nsteps, obs_container, agent):\n",
    "    scores, eps_history = [],[]\n",
    "    for trial in range(ntrials):\n",
    "        score = 0 \n",
    "        done  = False\n",
    "        state_id = env.reset()\n",
    "        observation = obs_container[state_id]\n",
    "        \n",
    "        for step in range(nsteps):\n",
    "            action = agent.choose_action([observation])\n",
    "            state_id, reward, done, info = env.step(action)\n",
    "            observation_ = obs_container[state_id]\n",
    "            score += reward\n",
    "            agent.store_transition(observation,action,reward,observation_,done)\n",
    "            agent.learn()\n",
    "            observation = observation_\n",
    "            if done:\n",
    "                break\n",
    "        scores.append(score)\n",
    "        eps_history.append(agent.epsilon)\n",
    "        \n",
    "        avg_score = np.mean(scores[-100:])\n",
    "        if trial%20==0:\n",
    "            print(f'episode:{trial}, score: {score}, avg:{ avg_score}, epsilon: {agent.epsilon}')\n",
    "    return scores, eps_history"
   ]
  },
  {
   "cell_type": "code",
   "execution_count": null,
   "metadata": {},
   "outputs": [],
   "source": [
    "env1 = gym.make('LunarLander-v2')\n",
    "print(type(env1.reset()))\n",
    "print(type(gridworld_onehots[env.reset()]))"
   ]
  },
  {
   "cell_type": "code",
   "execution_count": null,
   "metadata": {},
   "outputs": [],
   "source": [
    "Lunar_agent = DQ_agent(gamma=GAMMA, epsilon=EPSILON, lr=LR,\n",
    "                       input_dims=[8], batch_size=BATCH_SIZE,\n",
    "                       n_actions=N_ACTIONS)"
   ]
  },
  {
   "cell_type": "code",
   "execution_count": null,
   "metadata": {},
   "outputs": [],
   "source": [
    "test_batch = torch.tensor([env1.reset()])\n",
    "testqvals = Lunar_agent.Q_eval(test_batch)"
   ]
  },
  {
   "cell_type": "code",
   "execution_count": null,
   "metadata": {},
   "outputs": [],
   "source": [
    "test_batch = torch.Tensor([gridworld_onehots[env.reset()]])\n",
    "testqvals = onehot_agent.Q_eval(test_batch)\n",
    "print(testqvals)\n",
    "action = onehot_agent.choose_action(test_batch)\n",
    "print(action)"
   ]
  },
  {
   "cell_type": "code",
   "execution_count": null,
   "metadata": {},
   "outputs": [],
   "source": []
  },
  {
   "cell_type": "code",
   "execution_count": null,
   "metadata": {},
   "outputs": [],
   "source": []
  },
  {
   "cell_type": "code",
   "execution_count": 40,
   "metadata": {},
   "outputs": [
    {
     "name": "stdout",
     "output_type": "stream",
     "text": [
      "episode:0, score: -3.9999999999999587, avg:-3.9999999999999587, epsilon: 0.01\n",
      "episode:20, score: -3.9999999999999587, avg:-2.669047619047581, epsilon: 0.01\n",
      "episode:40, score: -3.9999999999999587, avg:-2.4302439024389875, epsilon: 0.01\n",
      "episode:60, score: -3.9999999999999587, avg:-2.716065573770455, epsilon: 0.01\n",
      "episode:80, score: -3.9999999999999587, avg:-2.5455555555555183, epsilon: 0.01\n",
      "episode:100, score: -3.9999999999999587, avg:-2.721499999999961, epsilon: 0.01\n",
      "episode:120, score: -3.9999999999999587, avg:-2.3901999999999632, epsilon: 0.01\n",
      "episode:140, score: -3.9999999999999587, avg:-2.474799999999963, epsilon: 0.01\n",
      "episode:160, score: -3.9999999999999587, avg:-2.3348999999999633, epsilon: 0.01\n",
      "episode:180, score: -3.9999999999999587, avg:-2.450199999999963, epsilon: 0.01\n",
      "episode:200, score: -3.9999999999999587, avg:-2.139599999999964, epsilon: 0.01\n",
      "episode:220, score: -3.9999999999999587, avg:-2.750399999999961, epsilon: 0.01\n",
      "episode:240, score: -3.9999999999999587, avg:-2.7498999999999616, epsilon: 0.01\n",
      "episode:260, score: -3.9999999999999587, avg:-3.029399999999961, epsilon: 0.01\n",
      "episode:280, score: -3.9999999999999587, avg:-3.30899999999996, epsilon: 0.01\n",
      "episode:300, score: -3.9999999999999587, avg:-3.719999999999958, epsilon: 0.01\n",
      "episode:320, score: -3.9999999999999587, avg:-3.719999999999958, epsilon: 0.01\n",
      "episode:340, score: -3.9999999999999587, avg:-3.9999999999999574, epsilon: 0.01\n",
      "episode:360, score: 9.96, avg:-3.592399999999959, epsilon: 0.01\n",
      "episode:380, score: -3.9999999999999587, avg:-2.815299999999961, epsilon: 0.01\n",
      "episode:400, score: -3.9999999999999587, avg:-2.4313999999999627, epsilon: 0.01\n",
      "episode:420, score: -3.9999999999999587, avg:-2.048399999999964, epsilon: 0.01\n",
      "episode:440, score: -3.9999999999999587, avg:-1.3496999999999664, epsilon: 0.01\n",
      "episode:460, score: -3.9999999999999587, avg:-0.6381999999999681, epsilon: 0.01\n",
      "episode:480, score: -3.9999999999999587, avg:-1.1704999999999666, epsilon: 0.01\n",
      "episode:500, score: -3.9999999999999587, avg:-1.0264999999999669, epsilon: 0.01\n",
      "episode:520, score: -3.9999999999999587, avg:-0.5256999999999679, epsilon: 0.01\n",
      "episode:540, score: -3.9999999999999587, avg:-0.9551999999999669, epsilon: 0.01\n",
      "episode:560, score: -3.9999999999999587, avg:-1.9434999999999645, epsilon: 0.01\n",
      "episode:580, score: -3.9999999999999587, avg:-2.0482999999999643, epsilon: 0.01\n",
      "episode:600, score: -3.9999999999999587, avg:-2.5761999999999627, epsilon: 0.01\n",
      "episode:620, score: -3.9999999999999587, avg:-3.459999999999959, epsilon: 0.01\n",
      "episode:640, score: -3.9999999999999587, avg:-3.729199999999958, epsilon: 0.01\n",
      "episode:660, score: -3.9999999999999587, avg:-3.859999999999958, epsilon: 0.01\n",
      "episode:680, score: -3.9999999999999587, avg:-3.9999999999999574, epsilon: 0.01\n",
      "episode:700, score: -3.9999999999999587, avg:-3.859999999999958, epsilon: 0.01\n",
      "episode:720, score: 9.99, avg:-3.720099999999958, epsilon: 0.01\n",
      "episode:740, score: -3.9999999999999587, avg:-2.799299999999961, epsilon: 0.01\n",
      "episode:760, score: -3.9999999999999587, avg:-2.5766999999999625, epsilon: 0.01\n",
      "episode:780, score: 6.640000000000027, avg:-2.224299999999964, epsilon: 0.01\n",
      "episode:800, score: -3.9999999999999587, avg:-2.2631999999999635, epsilon: 0.01\n",
      "episode:820, score: -3.9999999999999587, avg:-1.869299999999965, epsilon: 0.01\n",
      "episode:840, score: -3.9999999999999587, avg:-2.4149999999999627, epsilon: 0.01\n",
      "episode:860, score: -3.9999999999999587, avg:-2.2179999999999636, epsilon: 0.01\n",
      "episode:880, score: -3.9999999999999587, avg:-2.5703999999999625, epsilon: 0.01\n",
      "episode:900, score: -3.9999999999999587, avg:-2.5314999999999634, epsilon: 0.01\n",
      "episode:920, score: -3.9999999999999587, avg:-3.0652999999999606, epsilon: 0.01\n",
      "episode:940, score: -3.9999999999999587, avg:-3.4403999999999595, epsilon: 0.01\n"
     ]
    },
    {
     "ename": "KeyboardInterrupt",
     "evalue": "",
     "output_type": "error",
     "traceback": [
      "\u001b[0;31m---------------------------------------------------------------------------\u001b[0m",
      "\u001b[0;31mKeyboardInterrupt\u001b[0m                         Traceback (most recent call last)",
      "\u001b[0;32m<ipython-input-40-29af3d14a504>\u001b[0m in \u001b[0;36m<module>\u001b[0;34m\u001b[0m\n\u001b[1;32m      1\u001b[0m \u001b[0mnum_trials\u001b[0m \u001b[0;34m=\u001b[0m \u001b[0;36m2000\u001b[0m\u001b[0;34m\u001b[0m\u001b[0;34m\u001b[0m\u001b[0m\n\u001b[1;32m      2\u001b[0m \u001b[0mnum_steps\u001b[0m \u001b[0;34m=\u001b[0m \u001b[0;36m400\u001b[0m\u001b[0;34m\u001b[0m\u001b[0;34m\u001b[0m\u001b[0m\n\u001b[0;32m----> 3\u001b[0;31m \u001b[0mscores\u001b[0m\u001b[0;34m,\u001b[0m \u001b[0mepsilons\u001b[0m \u001b[0;34m=\u001b[0m \u001b[0mrun_expt\u001b[0m\u001b[0;34m(\u001b[0m\u001b[0mnum_trials\u001b[0m\u001b[0;34m,\u001b[0m \u001b[0mnum_steps\u001b[0m\u001b[0;34m,\u001b[0m \u001b[0mgridworld_onehots\u001b[0m\u001b[0;34m,\u001b[0m \u001b[0monehot_agent\u001b[0m\u001b[0;34m)\u001b[0m\u001b[0;34m\u001b[0m\u001b[0;34m\u001b[0m\u001b[0m\n\u001b[0m",
      "\u001b[0;32m<ipython-input-35-87ed37ad7144>\u001b[0m in \u001b[0;36mrun_expt\u001b[0;34m(ntrials, nsteps, obs_container, agent)\u001b[0m\n\u001b[1;32m     13\u001b[0m             \u001b[0mscore\u001b[0m \u001b[0;34m+=\u001b[0m \u001b[0mreward\u001b[0m\u001b[0;34m\u001b[0m\u001b[0;34m\u001b[0m\u001b[0m\n\u001b[1;32m     14\u001b[0m             \u001b[0magent\u001b[0m\u001b[0;34m.\u001b[0m\u001b[0mstore_transition\u001b[0m\u001b[0;34m(\u001b[0m\u001b[0mobservation\u001b[0m\u001b[0;34m,\u001b[0m\u001b[0maction\u001b[0m\u001b[0;34m,\u001b[0m\u001b[0mreward\u001b[0m\u001b[0;34m,\u001b[0m\u001b[0mobservation_\u001b[0m\u001b[0;34m,\u001b[0m\u001b[0mdone\u001b[0m\u001b[0;34m)\u001b[0m\u001b[0;34m\u001b[0m\u001b[0;34m\u001b[0m\u001b[0m\n\u001b[0;32m---> 15\u001b[0;31m             \u001b[0magent\u001b[0m\u001b[0;34m.\u001b[0m\u001b[0mlearn\u001b[0m\u001b[0;34m(\u001b[0m\u001b[0;34m)\u001b[0m\u001b[0;34m\u001b[0m\u001b[0;34m\u001b[0m\u001b[0m\n\u001b[0m\u001b[1;32m     16\u001b[0m             \u001b[0mobservation\u001b[0m \u001b[0;34m=\u001b[0m \u001b[0mobservation_\u001b[0m\u001b[0;34m\u001b[0m\u001b[0;34m\u001b[0m\u001b[0m\n\u001b[1;32m     17\u001b[0m             \u001b[0;32mif\u001b[0m \u001b[0mdone\u001b[0m\u001b[0;34m:\u001b[0m\u001b[0;34m\u001b[0m\u001b[0;34m\u001b[0m\u001b[0m\n",
      "\u001b[0;32m~/Dropbox/LINC Lab Documents/Code/MEMRL/basic/modules/Agents/Networks/DQN.py\u001b[0m in \u001b[0;36mlearn\u001b[0;34m(self)\u001b[0m\n\u001b[1;32m    134\u001b[0m             \u001b[0mloss\u001b[0m \u001b[0;34m=\u001b[0m \u001b[0mself\u001b[0m\u001b[0;34m.\u001b[0m\u001b[0mQ_eval\u001b[0m\u001b[0;34m.\u001b[0m\u001b[0mloss\u001b[0m\u001b[0;34m(\u001b[0m\u001b[0mq_target\u001b[0m\u001b[0;34m,\u001b[0m \u001b[0mq_eval\u001b[0m\u001b[0;34m)\u001b[0m\u001b[0;34m.\u001b[0m\u001b[0mto\u001b[0m\u001b[0;34m(\u001b[0m\u001b[0mself\u001b[0m\u001b[0;34m.\u001b[0m\u001b[0mQ_eval\u001b[0m\u001b[0;34m.\u001b[0m\u001b[0mdevice\u001b[0m\u001b[0;34m)\u001b[0m\u001b[0;34m\u001b[0m\u001b[0;34m\u001b[0m\u001b[0m\n\u001b[1;32m    135\u001b[0m             \u001b[0mloss\u001b[0m\u001b[0;34m.\u001b[0m\u001b[0mbackward\u001b[0m\u001b[0;34m(\u001b[0m\u001b[0;34m)\u001b[0m \u001b[0;31m# backprop the error\u001b[0m\u001b[0;34m\u001b[0m\u001b[0;34m\u001b[0m\u001b[0m\n\u001b[0;32m--> 136\u001b[0;31m             \u001b[0mself\u001b[0m\u001b[0;34m.\u001b[0m\u001b[0mQ_eval\u001b[0m\u001b[0;34m.\u001b[0m\u001b[0moptimizer\u001b[0m\u001b[0;34m.\u001b[0m\u001b[0mstep\u001b[0m\u001b[0;34m(\u001b[0m\u001b[0;34m)\u001b[0m \u001b[0;31m# weight update\u001b[0m\u001b[0;34m\u001b[0m\u001b[0;34m\u001b[0m\u001b[0m\n\u001b[0m\u001b[1;32m    137\u001b[0m \u001b[0;34m\u001b[0m\u001b[0m\n\u001b[1;32m    138\u001b[0m             \u001b[0;31m# now decrease epsilon value\u001b[0m\u001b[0;34m\u001b[0m\u001b[0;34m\u001b[0m\u001b[0;34m\u001b[0m\u001b[0m\n",
      "\u001b[0;32m~/.local/lib/python3.8/site-packages/torch/autograd/grad_mode.py\u001b[0m in \u001b[0;36mdecorate_context\u001b[0;34m(*args, **kwargs)\u001b[0m\n\u001b[1;32m     13\u001b[0m         \u001b[0;32mdef\u001b[0m \u001b[0mdecorate_context\u001b[0m\u001b[0;34m(\u001b[0m\u001b[0;34m*\u001b[0m\u001b[0margs\u001b[0m\u001b[0;34m,\u001b[0m \u001b[0;34m**\u001b[0m\u001b[0mkwargs\u001b[0m\u001b[0;34m)\u001b[0m\u001b[0;34m:\u001b[0m\u001b[0;34m\u001b[0m\u001b[0;34m\u001b[0m\u001b[0m\n\u001b[1;32m     14\u001b[0m             \u001b[0;32mwith\u001b[0m \u001b[0mself\u001b[0m\u001b[0;34m:\u001b[0m\u001b[0;34m\u001b[0m\u001b[0;34m\u001b[0m\u001b[0m\n\u001b[0;32m---> 15\u001b[0;31m                 \u001b[0;32mreturn\u001b[0m \u001b[0mfunc\u001b[0m\u001b[0;34m(\u001b[0m\u001b[0;34m*\u001b[0m\u001b[0margs\u001b[0m\u001b[0;34m,\u001b[0m \u001b[0;34m**\u001b[0m\u001b[0mkwargs\u001b[0m\u001b[0;34m)\u001b[0m\u001b[0;34m\u001b[0m\u001b[0;34m\u001b[0m\u001b[0m\n\u001b[0m\u001b[1;32m     16\u001b[0m         \u001b[0;32mreturn\u001b[0m \u001b[0mdecorate_context\u001b[0m\u001b[0;34m\u001b[0m\u001b[0;34m\u001b[0m\u001b[0m\n\u001b[1;32m     17\u001b[0m \u001b[0;34m\u001b[0m\u001b[0m\n",
      "\u001b[0;32m~/.local/lib/python3.8/site-packages/torch/optim/adam.py\u001b[0m in \u001b[0;36mstep\u001b[0;34m(self, closure)\u001b[0m\n\u001b[1;32m    105\u001b[0m                     \u001b[0mdenom\u001b[0m \u001b[0;34m=\u001b[0m \u001b[0;34m(\u001b[0m\u001b[0mmax_exp_avg_sq\u001b[0m\u001b[0;34m.\u001b[0m\u001b[0msqrt\u001b[0m\u001b[0;34m(\u001b[0m\u001b[0;34m)\u001b[0m \u001b[0;34m/\u001b[0m \u001b[0mmath\u001b[0m\u001b[0;34m.\u001b[0m\u001b[0msqrt\u001b[0m\u001b[0;34m(\u001b[0m\u001b[0mbias_correction2\u001b[0m\u001b[0;34m)\u001b[0m\u001b[0;34m)\u001b[0m\u001b[0;34m.\u001b[0m\u001b[0madd_\u001b[0m\u001b[0;34m(\u001b[0m\u001b[0mgroup\u001b[0m\u001b[0;34m[\u001b[0m\u001b[0;34m'eps'\u001b[0m\u001b[0;34m]\u001b[0m\u001b[0;34m)\u001b[0m\u001b[0;34m\u001b[0m\u001b[0;34m\u001b[0m\u001b[0m\n\u001b[1;32m    106\u001b[0m                 \u001b[0;32melse\u001b[0m\u001b[0;34m:\u001b[0m\u001b[0;34m\u001b[0m\u001b[0;34m\u001b[0m\u001b[0m\n\u001b[0;32m--> 107\u001b[0;31m                     \u001b[0mdenom\u001b[0m \u001b[0;34m=\u001b[0m \u001b[0;34m(\u001b[0m\u001b[0mexp_avg_sq\u001b[0m\u001b[0;34m.\u001b[0m\u001b[0msqrt\u001b[0m\u001b[0;34m(\u001b[0m\u001b[0;34m)\u001b[0m \u001b[0;34m/\u001b[0m \u001b[0mmath\u001b[0m\u001b[0;34m.\u001b[0m\u001b[0msqrt\u001b[0m\u001b[0;34m(\u001b[0m\u001b[0mbias_correction2\u001b[0m\u001b[0;34m)\u001b[0m\u001b[0;34m)\u001b[0m\u001b[0;34m.\u001b[0m\u001b[0madd_\u001b[0m\u001b[0;34m(\u001b[0m\u001b[0mgroup\u001b[0m\u001b[0;34m[\u001b[0m\u001b[0;34m'eps'\u001b[0m\u001b[0;34m]\u001b[0m\u001b[0;34m)\u001b[0m\u001b[0;34m\u001b[0m\u001b[0;34m\u001b[0m\u001b[0m\n\u001b[0m\u001b[1;32m    108\u001b[0m \u001b[0;34m\u001b[0m\u001b[0m\n\u001b[1;32m    109\u001b[0m                 \u001b[0mstep_size\u001b[0m \u001b[0;34m=\u001b[0m \u001b[0mgroup\u001b[0m\u001b[0;34m[\u001b[0m\u001b[0;34m'lr'\u001b[0m\u001b[0;34m]\u001b[0m \u001b[0;34m/\u001b[0m \u001b[0mbias_correction1\u001b[0m\u001b[0;34m\u001b[0m\u001b[0;34m\u001b[0m\u001b[0m\n",
      "\u001b[0;31mKeyboardInterrupt\u001b[0m: "
     ]
    }
   ],
   "source": [
    "num_trials = 2000\n",
    "num_steps = 400\n",
    "scores, epsilons = run_expt(num_trials, num_steps, gridworld_onehots, onehot_agent)"
   ]
  },
  {
   "cell_type": "code",
   "execution_count": null,
   "metadata": {},
   "outputs": [],
   "source": [
    "# plot learning\n",
    "fig, ax = plt.subplots(2,1)\n",
    "ax[0].plot(scores, label='score')\n",
    "ax[1].plot(epsilons,label='epsilon')\n",
    "plt.legend(loc=0)\n",
    "plt.show()"
   ]
  },
  {
   "cell_type": "code",
   "execution_count": null,
   "metadata": {},
   "outputs": [],
   "source": []
  }
 ],
 "metadata": {
  "kernelspec": {
   "display_name": "Python 3",
   "language": "python",
   "name": "python3"
  },
  "language_info": {
   "codemirror_mode": {
    "name": "ipython",
    "version": 3
   },
   "file_extension": ".py",
   "mimetype": "text/x-python",
   "name": "python",
   "nbconvert_exporter": "python",
   "pygments_lexer": "ipython3",
   "version": "3.8.5"
  }
 },
 "nbformat": 4,
 "nbformat_minor": 4
}
