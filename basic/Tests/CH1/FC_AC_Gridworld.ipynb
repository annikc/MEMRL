{
 "cells": [
  {
   "cell_type": "code",
   "execution_count": 1,
   "metadata": {},
   "outputs": [],
   "source": [
    "# import packages\n",
    "import numpy as np\n",
    "import matplotlib.pyplot as plt\n",
    "import matplotlib.patches as patches\n",
    "import time\n",
    "import sys\n",
    "import torch\n",
    "import pandas as pd \n",
    "\n",
    "import pickle\n",
    "sys.path.insert(0, './../../modules')\n",
    "\n",
    "from Utils import running_mean as rm\n",
    "from Utils import one_hot_state, onehot_state_collection, twoD_states\n",
    "\n",
    "# import representation type\n",
    "from Agents.RepresentationLearning import PlaceCells\n",
    "# import actor critic network\n",
    "from Agents.Networks import ActorCritic as Network\n",
    "# import agent class wrapper to handle behaviour\n",
    "from Agents import Agent\n",
    "# import experiment class to handle run and logging\n",
    "from Experiments import expt\n",
    "\n",
    "\n",
    "# get environment\n",
    "import gym\n",
    "sys.path.append('../../../basic/')\n",
    "sys.path.append('../../../')\n",
    "\n",
    "from Agents.EpisodicMemory import EpisodicMemory as Memory\n"
   ]
  },
  {
   "cell_type": "code",
   "execution_count": null,
   "metadata": {},
   "outputs": [],
   "source": []
  },
  {
   "cell_type": "code",
   "execution_count": 2,
   "metadata": {},
   "outputs": [
    {
     "data": {
      "image/png": "[encoded data removed]",
      "text/plain": [
       "<Figure size 226.8x252 with 1 Axes>"
      ]
     },
     "metadata": {},
     "output_type": "display_data"
    }
   ],
   "source": [
    "# make env\n",
    "env_name = 'gym_grid:gridworld-v6'\n",
    "env = gym.make(env_name)\n",
    "plt.show()"
   ]
  },
  {
   "cell_type": "code",
   "execution_count": 3,
   "metadata": {},
   "outputs": [],
   "source": [
    "oh_state_reps = {}\n",
    "    \n",
    "place_cells = PlaceCells(env.shape, env.nstates, field_size=0.1)\n",
    "pc_state_reps = {}\n",
    "\n",
    "for state in env.useable:\n",
    "    oh_state_reps[env.twoD2oneD(state)] = one_hot_state(env,env.twoD2oneD(state))\n",
    "    pc_state_reps[env.twoD2oneD(state)] = place_cells.get_activities([state])[0]\n",
    "\n",
    "input_dims = len(oh_state_reps[list(oh_state_reps.keys())[0]])"
   ]
  },
  {
   "cell_type": "code",
   "execution_count": 4,
   "metadata": {},
   "outputs": [
    {
     "name": "stdout",
     "output_type": "stream",
     "text": [
      "[1. 0. 0. 0. 0. 0. 0. 0. 0. 0. 0. 0. 0. 0. 0. 0. 0. 0. 0. 0. 0. 0. 0. 0.\n",
      " 0. 0. 0. 0. 0. 0. 0. 0. 0. 0. 0. 0. 0. 0. 0. 0. 0. 0. 0. 0. 0. 0. 0. 0.\n",
      " 0. 0. 0. 0. 0. 0. 0. 0. 0. 0. 0. 0. 0. 0. 0. 0. 0. 0. 0. 0. 0. 0. 0. 0.\n",
      " 0. 0. 0. 0. 0. 0. 0. 0. 0. 0. 0. 0. 0. 0. 0. 0. 0. 0.]\n"
     ]
    }
   ],
   "source": [
    "print(oh_state_reps[0])"
   ]
  },
  {
   "cell_type": "code",
   "execution_count": 5,
   "metadata": {
    "scrolled": true
   },
   "outputs": [
    {
     "name": "stderr",
     "output_type": "stream",
     "text": [
      "/home/annik/.local/lib/python3.8/site-packages/torch/cuda/__init__.py:52: UserWarning: CUDA initialization: Found no NVIDIA driver on your system. Please check that you have an NVIDIA GPU and installed a driver from http://www.nvidia.com/Download/index.aspx (Triggered internally at  /pytorch/c10/cuda/CUDAFunctions.cpp:100.)\n",
      "  return torch._C._cuda_getDeviceCount() > 0\n"
     ]
    },
    {
     "name": "stdout",
     "output_type": "stream",
     "text": [
      "Episode: 0, Score: -2.4999999999999907 (Running Avg:-2.4999999999999907) [0.26836609840393066s]\n",
      "Episode: 100, Score: 9.91 (Running Avg:1.0710000000000064) [16.03350830078125s]\n",
      "Episode: 200, Score: -2.4999999999999907 (Running Avg:1.1740000000000061) [14.655055284500122s]\n",
      "Episode: 300, Score: 9.82 (Running Avg:-0.028999999999992455) [14.93550729751587s]\n",
      "Episode: 400, Score: -2.4999999999999907 (Running Avg:2.3880000000000057) [13.82157301902771s]\n",
      "Episode: 500, Score: -2.4999999999999907 (Running Avg:-1.2619999999999916) [14.303799152374268s]\n",
      "Episode: 600, Score: -2.4999999999999907 (Running Avg:-1.2509999999999917) [14.60131287574768s]\n",
      "Episode: 700, Score: 9.91 (Running Avg:2.4650000000000056) [13.51096796989441s]\n",
      "Episode: 800, Score: 10.0 (Running Avg:-0.0029999999999924753) [14.010683298110962s]\n",
      "Episode: 900, Score: -2.4999999999999907 (Running Avg:-0.0179999999999926) [15.882170677185059s]\n",
      "Episode: 1000, Score: 9.91 (Running Avg:3.7090000000000045) [13.813767671585083s]\n",
      "Episode: 1100, Score: -2.4999999999999907 (Running Avg:-0.005999999999992856) [15.10938048362732s]\n",
      "Episode: 1200, Score: -2.4999999999999907 (Running Avg:-0.021999999999992515) [14.623498678207397s]\n",
      "Episode: 1300, Score: -2.4999999999999907 (Running Avg:-0.01399999999999264) [15.257245540618896s]\n",
      "Episode: 1400, Score: -2.4999999999999907 (Running Avg:2.457000000000006) [13.73589563369751s]\n",
      "Episode: 1500, Score: -2.4999999999999907 (Running Avg:-1.2499999999999916) [13.741854906082153s]\n",
      "Episode: 1600, Score: -2.4999999999999907 (Running Avg:1.2350000000000065) [13.228674411773682s]\n",
      "Episode: 1700, Score: 10.0 (Running Avg:2.288000000000005) [12.634911060333252s]\n",
      "Episode: 1800, Score: -2.4999999999999907 (Running Avg:4.5580000000000025) [11.183439254760742s]\n",
      "Episode: 1900, Score: -2.4999999999999907 (Running Avg:-0.050999999999992565) [12.003558158874512s]\n",
      "Episode: 2000, Score: 9.93 (Running Avg:2.449000000000005) [10.685145616531372s]\n",
      "Episode: 2100, Score: -2.4999999999999907 (Running Avg:3.5310000000000037) [9.996312618255615s]\n",
      "Episode: 2200, Score: 9.77 (Running Avg:3.6240000000000037) [11.14546823501587s]\n",
      "Episode: 2300, Score: -2.4999999999999907 (Running Avg:4.8670000000000035) [13.123706340789795s]\n",
      "Episode: 2400, Score: -2.4999999999999907 (Running Avg:-0.04199999999999262) [12.081242561340332s]\n",
      "Episode: 2500, Score: -2.4999999999999907 (Running Avg:3.6810000000000045) [11.032565355300903s]\n",
      "Episode: 2600, Score: -2.4999999999999907 (Running Avg:1.1700000000000064) [11.137912273406982s]\n",
      "Episode: 2700, Score: -2.4999999999999907 (Running Avg:2.4400000000000053) [10.878511190414429s]\n",
      "Episode: 2800, Score: -2.4999999999999907 (Running Avg:1.237000000000006) [10.899345397949219s]\n",
      "Episode: 2900, Score: -2.4999999999999907 (Running Avg:3.704000000000004) [11.306309938430786s]\n",
      "Episode: 3000, Score: -2.4999999999999907 (Running Avg:3.669000000000005) [10.738871574401855s]\n",
      "Episode: 3100, Score: -2.4999999999999907 (Running Avg:3.6820000000000035) [11.533031702041626s]\n",
      "Episode: 3200, Score: -2.4999999999999907 (Running Avg:1.221000000000006) [11.487165212631226s]\n",
      "Episode: 3300, Score: 9.74 (Running Avg:2.4300000000000055) [9.367276668548584s]\n",
      "Episode: 3400, Score: 9.83 (Running Avg:3.6910000000000047) [9.587555170059204s]\n",
      "Episode: 3500, Score: -2.4999999999999907 (Running Avg:1.2040000000000064) [13.331507444381714s]\n",
      "Episode: 3600, Score: 9.76 (Running Avg:3.6790000000000047) [10.45922040939331s]\n",
      "Episode: 3700, Score: -2.4999999999999907 (Running Avg:3.673000000000004) [10.139541149139404s]\n",
      "Episode: 3800, Score: -2.4999999999999907 (Running Avg:2.4550000000000054) [11.236688613891602s]\n",
      "Episode: 3900, Score: 9.87 (Running Avg:7.408000000000003) [9.687215328216553s]\n",
      "Episode: 4000, Score: 9.94 (Running Avg:3.732000000000005) [10.713016748428345s]\n",
      "Episode: 4100, Score: -2.4999999999999907 (Running Avg:3.690000000000004) [11.428030967712402s]\n",
      "Episode: 4200, Score: -2.4999999999999907 (Running Avg:6.184000000000003) [10.738551378250122s]\n",
      "Episode: 4300, Score: 9.94 (Running Avg:4.902000000000003) [9.774017333984375s]\n",
      "Episode: 4400, Score: -2.4999999999999907 (Running Avg:1.2260000000000066) [11.636691093444824s]\n",
      "Episode: 4500, Score: 9.96 (Running Avg:6.182000000000002) [9.883198976516724s]\n",
      "Episode: 4600, Score: -2.4999999999999907 (Running Avg:3.659000000000004) [10.934566020965576s]\n",
      "Episode: 4700, Score: 9.83 (Running Avg:3.637000000000005) [6.608752727508545s]\n",
      "Episode: 4800, Score: 9.48 (Running Avg:8.380000000000003) [4.682873725891113s]\n",
      "Episode: 4900, Score: 9.25 (Running Avg:9.538) [3.481240749359131s]\n",
      "Logged with ID d3b0c619-2774-4cf1-8045-8fc8674f909d\n"
     ]
    }
   ],
   "source": [
    "## onehot state representations\n",
    "for _ in range(1):\n",
    "    env.random_start=True\n",
    "    oh_network = Network(input_dims=[input_dims],fc1_dims=200,fc2_dims=200,output_dims=env.action_space.n, lr=0.0005)\n",
    "    oh_agent = Agent(oh_network, state_representations=oh_state_reps)\n",
    "\n",
    "    ex = expt(oh_agent,env)\n",
    "\n",
    "    num_trials = 5000\n",
    "    num_events = 250\n",
    "    ex.run(num_trials, num_events)\n",
    "\n",
    "    expt_type = 'onehot_train'\n",
    "    directory = '../../Data/'\n",
    "    filename  = 'mf_training.csv'\n",
    "\n",
    "    ex.record_log(expt_type, env_name, num_trials, num_events, dir=directory, file=filename)"
   ]
  },
  {
   "cell_type": "code",
   "execution_count": null,
   "metadata": {
    "scrolled": true
   },
   "outputs": [],
   "source": [
    "## place cell representations\n",
    "for _ in range(5):\n",
    "    pc_network = Network(input_dims=[input_dims],fc1_dims=200,fc2_dims=200,output_dims=env.action_space.n, lr=0.0005)\n",
    "    pc_agent = Agent(pc_network, state_representations=pc_state_reps)\n",
    "\n",
    "    ex = expt(pc_agent,env)\n",
    "\n",
    "    num_trials = 5000\n",
    "    num_events = 250\n",
    "    ex.run(num_trials, num_events)\n",
    "\n",
    "    expt_type = 'place_cell_train'\n",
    "    directory = '../../Data/'\n",
    "    filename  = 'mf_training.csv'\n",
    "    \n",
    "    ex.data['place_cells'] = place_cells\n",
    "    \n",
    "    extras = [place_cells.field_size]\n",
    "\n",
    "    ex.record_log(expt_type, env_name, num_trials, num_events, dir=directory, file=filename, extra=extras)"
   ]
  },
  {
   "cell_type": "code",
   "execution_count": null,
   "metadata": {},
   "outputs": [],
   "source": [
    "## place cell representations\n",
    "for f in [0.1]:\n",
    "    for e in range(5):\n",
    "        env_name = f'gym_grid:gridworld-v{e+1}'\n",
    "        env = gym.make(env_name)\n",
    "        place_cells = PlaceCells(env.shape, 200, field_size=f)\n",
    "        pc_state_reps = {}\n",
    "\n",
    "        for state in env.useable:\n",
    "            pc_state_reps[env.twoD2oneD(state)] = place_cells.get_activities([state])[0]\n",
    "            \n",
    "        input_dims = len(pc_state_reps[list(pc_state_reps.keys())[0]])\n",
    "\n",
    "        for _ in range(5):\n",
    "            pc_network = Network(input_dims=[input_dims],fc1_dims=200,fc2_dims=200,output_dims=env.action_space.n, lr=0.0005)\n",
    "            pc_agent = Agent(pc_network, state_representations=pc_state_reps)\n",
    "\n",
    "            ex = expt(pc_agent,env)\n",
    "\n",
    "            num_trials = 5000\n",
    "            num_events = 250\n",
    "            ex.run(num_trials, num_events)\n",
    "\n",
    "            expt_type = 'place_cell_train'\n",
    "            directory = '../../Data/'\n",
    "            filename  = 'mf_training.csv'\n",
    "\n",
    "            ex.data['place_cells'] = place_cells.cell_centres\n",
    "\n",
    "            extras = [input_dims, place_cells.field_size]\n",
    "\n",
    "            ex.record_log(expt_type, env_name, num_trials, num_events, dir=directory, file=filename, extra=extras)"
   ]
  },
  {
   "cell_type": "code",
   "execution_count": null,
   "metadata": {},
   "outputs": [],
   "source": [
    "# successor representations\n",
    "with open(f'../../modules/Agents/RepresentationLearning/SR_{env_name}.p', 'rb') as f:\n",
    "    sr_ = pickle.load(f)"
   ]
  },
  {
   "cell_type": "code",
   "execution_count": null,
   "metadata": {},
   "outputs": [],
   "source": [
    "sr_reps = {}\n",
    "SR = np.sum(sr_, axis = 0)\n",
    "for index in range(SR.shape[0]):\n",
    "    sr_reps[index] = SR[index]"
   ]
  },
  {
   "cell_type": "code",
   "execution_count": null,
   "metadata": {},
   "outputs": [],
   "source": [
    "index = 250\n",
    "plt.figure()\n",
    "plt.imshow(sr_reps[index].reshape(*env.shape))\n",
    "plt.show()"
   ]
  },
  {
   "cell_type": "code",
   "execution_count": null,
   "metadata": {},
   "outputs": [],
   "source": [
    "## successor representations\n",
    "sr_reps = {}\n",
    "SR = np.sum(sr_, axis = 0)\n",
    "for index in range(SR.shape[0]):\n",
    "    sr_reps[index] = SR[index]\n",
    "    \n",
    "for _ in range(1):\n",
    "    input_dims = len(sr_reps[list(sr_reps.keys())[0]])\n",
    "    \n",
    "    sr_network = Network(input_dims=[input_dims],fc1_dims=200,fc2_dims=200,output_dims=env.action_space.n, lr=0.0005)\n",
    "    sr_agent = Agent(sr_network, state_representations=sr_reps)\n",
    "\n",
    "    ex = expt(sr_agent,env)\n",
    "\n",
    "    num_trials = 5000\n",
    "    num_events = 250\n",
    "    ex.run(num_trials, num_events)\n",
    "\n",
    "    expt_type = 'sr_train_with_rec'\n",
    "    directory = '../../Data/'\n",
    "    filename  = 'mf_training.csv'\n",
    "\n",
    "    ex.record_log(expt_type, env_name, num_trials, num_events, dir=directory, file=filename)"
   ]
  },
  {
   "cell_type": "code",
   "execution_count": null,
   "metadata": {},
   "outputs": [],
   "source": [
    "print(ex.data['P_snap'][-1])"
   ]
  },
  {
   "cell_type": "code",
   "execution_count": null,
   "metadata": {},
   "outputs": [],
   "source": [
    "from Utils.gridworld_plotting import *"
   ]
  },
  {
   "cell_type": "code",
   "execution_count": null,
   "metadata": {},
   "outputs": [],
   "source": [
    "index = 5000-1\n",
    "plot_pref_pol(env, ex.data['P_snap'][index])"
   ]
  },
  {
   "cell_type": "code",
   "execution_count": null,
   "metadata": {},
   "outputs": [],
   "source": [
    "### testing \n",
    "df = pd.read_csv('../../Data/mf_training.csv')\n",
    "\n",
    "for j in range(len(df)):\n",
    "    print(i)\n",
    "    i = int(j+130)\n",
    "    line = df.iloc[i]\n",
    "    if line['pass']=='pass':\n",
    "        pass\n",
    "    else:\n",
    "        run_id    = line['run_id']\n",
    "        env_type  = line['env_type']\n",
    "        expt_type = line['expt_type']\n",
    "        num_cells = line['Num_inputs']\n",
    "\n",
    "        # make environment\n",
    "        env = gym.make(env_type)\n",
    "        # remap reward \n",
    "        env.set_reward({(15,15):10})\n",
    "\n",
    "        # make network\n",
    "        network = torch.load(f'../../Data/agents/{run_id}.pt')\n",
    "\n",
    "        # get state representations\n",
    "        if expt_type == 'onehot_train':\n",
    "            print(\"Using Onehot Representation\")\n",
    "            state_reps = {}\n",
    "            for state in env.useable:\n",
    "                state_reps[env.twoD2oneD(state)] = one_hot_state(env,env.twoD2oneD(state))\n",
    "\n",
    "        elif expt_type == 'place_cell_train':\n",
    "            print(\"Using Place Cell Representation\")\n",
    "            fs = line['PlaceCell_fieldsize']\n",
    "            with open(f'../../Data/results/{run_id}_data.p', 'rb') as f:\n",
    "                cell_centres = pickle.load(f)['place_cells']\n",
    "            state_reps = {}\n",
    "            pcs = PlaceCells(env.shape,num_cells=int(num_cells), field_size=fs, cell_centres=cell_centres)\n",
    "            for state in env.useable:\n",
    "                state_reps[env.twoD2oneD(state)] = pcs.get_activities([state])[0]\n",
    "\n",
    "        if expt_type[0:8] == 'sr_train':\n",
    "            print(\"Using Successor Representation\")\n",
    "            with open(f'../../modules/Agents/RepresentationLearning/SR_{env_type}.p', 'rb') as f:\n",
    "                sr_ = pickle.load(f)\n",
    "\n",
    "            state_reps = {}\n",
    "            SR = np.sum(sr_, axis = 0)\n",
    "            for index in range(SR.shape[0]):\n",
    "                state_reps[index] = SR[index]\n",
    "\n",
    "        # make agent\n",
    "        agent = Agent(network, state_representations=state_reps)\n",
    "\n",
    "        # make experiment\n",
    "        ex = expt(agent,env)\n",
    "\n",
    "        num_trials = 5000\n",
    "        num_events = 250\n",
    "        # run experiment\n",
    "        ex.run(num_trials, num_events)\n",
    "\n",
    "        # log results \n",
    "        expt_type = f'{expt_type[:-6]}_testing'\n",
    "        directory = '../../Data/'\n",
    "        filename  = 'mf_testing.csv'\n",
    "\n",
    "        if expt_type == 'place_cell_train':\n",
    "            ex.data['place_cells'] = place_cells.cell_centres\n",
    "\n",
    "        extras = [run_id]\n",
    "\n",
    "        ex.record_log(expt_type, env_type, num_trials, num_events, dir=directory, file=filename, extra=extras,\n",
    "                     mock_log=False)\n"
   ]
  },
  {
   "cell_type": "code",
   "execution_count": null,
   "metadata": {},
   "outputs": [],
   "source": [
    "print(expt_type[:-6])"
   ]
  },
  {
   "cell_type": "code",
   "execution_count": null,
   "metadata": {},
   "outputs": [],
   "source": [
    "print(state_reps.keys())"
   ]
  },
  {
   "cell_type": "code",
   "execution_count": null,
   "metadata": {},
   "outputs": [],
   "source": [
    "print(expt_type[0:8])"
   ]
  },
  {
   "cell_type": "code",
   "execution_count": null,
   "metadata": {},
   "outputs": [],
   "source": [
    "## with EC\n",
    "### testing \n",
    "df = pd.read_csv('../../Data/mf_training.csv')\n",
    "\n",
    "for j in range(len(df)):    \n",
    "    i = int(j)\n",
    "    if i ==0:\n",
    "        pass\n",
    "    line = df.iloc[i]\n",
    "    if line['pass']=='pass':\n",
    "        pass\n",
    "    else:\n",
    "        run_id    = line['run_id']\n",
    "        env_type  = line['env_type']\n",
    "        expt_type = line['expt_type']\n",
    "        num_cells = line['Num_inputs']\n",
    "\n",
    "        # make environment\n",
    "        env = gym.make(env_type)\n",
    "        # remap reward \n",
    "        env.set_reward({(15,15):10})\n",
    "\n",
    "        # make network\n",
    "        network = torch.load(f'../../Data/agents/{run_id}.pt')\n",
    "\n",
    "        # get state representations\n",
    "        if expt_type == 'onehot_train':\n",
    "            print(\"Using Onehot Representation\")\n",
    "            state_reps = {}\n",
    "            for state in env.useable:\n",
    "                state_reps[env.twoD2oneD(state)] = one_hot_state(env,env.twoD2oneD(state))\n",
    "\n",
    "        elif expt_type == 'place_cell_train':\n",
    "            print(\"Using Place Cell Representation\")\n",
    "            fs = line['PlaceCell_fieldsize']\n",
    "            with open(f'../../Data/results/{run_id}_data.p', 'rb') as f:\n",
    "                cell_centres = pickle.load(f)['place_cells']\n",
    "            state_reps = {}\n",
    "            pcs = PlaceCells(env.shape,num_cells=int(num_cells), field_size=fs, cell_centres=cell_centres)\n",
    "            for state in env.useable:\n",
    "                state_reps[env.twoD2oneD(state)] = pcs.get_activities([state])[0]\n",
    "\n",
    "        if expt_type[0:8] == 'sr_train':\n",
    "            print(\"Using Successor Representation\")\n",
    "            with open(f'../../modules/Agents/RepresentationLearning/SR_{env_type}.p', 'rb') as f:\n",
    "                sr_ = pickle.load(f)\n",
    "\n",
    "            state_reps = {}\n",
    "            SR = np.sum(sr_, axis = 0)\n",
    "            for index in range(SR.shape[0]):\n",
    "                state_reps[index] = SR[index]\n",
    "        \n",
    "        # make memory\n",
    "        memory = Memory(cache_limit=400, entry_size=env.action_space.n)\n",
    "        # make agent\n",
    "        agent = Agent(network, state_representations=state_reps, memory=memory)\n",
    "        agent.get_action = agent.EC_action\n",
    "        # make experiment\n",
    "        ex = expt(agent,env)\n",
    "\n",
    "        num_trials = 1000\n",
    "        num_events = 250\n",
    "        # run experiment\n",
    "        ex.run(num_trials, num_events)\n",
    "\n",
    "        # log results \n",
    "        expt_type = f'{expt_type[:-6]}_testing'\n",
    "        directory = '../../Data/'\n",
    "        filename  = 'ec_testing.csv'\n",
    "\n",
    "        if expt_type == 'place_cell_train':\n",
    "            ex.data['place_cells'] = place_cells.cell_centres\n",
    "\n",
    "        extras = [run_id]\n",
    "\n",
    "        ex.record_log(expt_type, env_type, num_trials, num_events, dir=directory, file=filename, extra=extras,\n",
    "                     mock_log=False)"
   ]
  },
  {
   "cell_type": "code",
   "execution_count": null,
   "metadata": {},
   "outputs": [],
   "source": []
  }
 ],
 "metadata": {
  "kernelspec": {
   "display_name": "Python 3",
   "language": "python",
   "name": "python3"
  },
  "language_info": {
   "codemirror_mode": {
    "name": "ipython",
    "version": 3
   },
   "file_extension": ".py",
   "mimetype": "text/x-python",
   "name": "python",
   "nbconvert_exporter": "python",
   "pygments_lexer": "ipython3",
   "version": "3.8.5"
  }
 },
 "nbformat": 4,
 "nbformat_minor": 4
}
