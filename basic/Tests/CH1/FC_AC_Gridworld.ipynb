{
 "cells": [
  {
   "cell_type": "code",
   "execution_count": 1,
   "metadata": {},
   "outputs": [],
   "source": [
    "# import packages\n",
    "import numpy as np\n",
    "import matplotlib.pyplot as plt\n",
    "import matplotlib.patches as patches\n",
    "import time\n",
    "import sys\n",
    "import torch\n",
    "import pandas as pd \n",
    "\n",
    "import pickle\n",
    "sys.path.insert(0, './../../modules')\n",
    "\n",
    "from Utils import running_mean as rm\n",
    "from Utils import one_hot_state, onehot_state_collection, twoD_states\n",
    "\n",
    "# import representation type\n",
    "from Agents.RepresentationLearning import PlaceCells\n",
    "# import actor critic network\n",
    "from Agents.Networks import ActorCritic as Network\n",
    "# import agent class wrapper to handle behaviour\n",
    "from Agents import Agent\n",
    "# import experiment class to handle run and logging\n",
    "from Experiments import expt\n",
    "\n",
    "\n",
    "# get environment\n",
    "import gym\n",
    "sys.path.append('../../../basic/')\n",
    "sys.path.append('../../../')\n",
    "\n",
    "from Agents.EpisodicMemory import EpisodicMemory as Memory\n"
   ]
  },
  {
   "cell_type": "code",
   "execution_count": null,
   "metadata": {},
   "outputs": [],
   "source": []
  },
  {
   "cell_type": "code",
   "execution_count": 2,
   "metadata": {},
   "outputs": [
    {
     "data": {
      "image/png": "[encoded data removed]",
      "text/plain": [
       "<Figure size 226.8x252 with 1 Axes>"
      ]
     },
     "metadata": {},
     "output_type": "display_data"
    }
   ],
   "source": [
    "# make env\n",
    "env_name = 'gym_grid:gridworld-v6'\n",
    "env = gym.make(env_name)\n",
    "plt.show()"
   ]
  },
  {
   "cell_type": "code",
   "execution_count": 4,
   "metadata": {},
   "outputs": [],
   "source": [
    "oh_state_reps = {}\n",
    "    \n",
    "place_cells = PlaceCells(env.shape, env.nstates, field_size=0.1)\n",
    "pc_state_reps = {}\n",
    "\n",
    "for state in env.useable:\n",
    "    oh_state_reps[env.twoD2oneD(state)] = one_hot_state(env,env.twoD2oneD(state))\n",
    "    pc_state_reps[env.twoD2oneD(state)] = place_cells.get_activities([state])[0]\n",
    "\n",
    "input_dims = len(oh_state_reps[list(oh_state_reps.keys())[0]])"
   ]
  },
  {
   "cell_type": "code",
   "execution_count": 5,
   "metadata": {},
   "outputs": [
    {
     "name": "stdout",
     "output_type": "stream",
     "text": [
      "[1. 0. 0. 0. 0. 0. 0. 0. 0. 0. 0. 0. 0. 0. 0. 0. 0. 0. 0. 0. 0. 0. 0. 0.\n",
      " 0. 0. 0. 0. 0. 0. 0. 0. 0. 0. 0. 0. 0. 0. 0. 0. 0. 0. 0. 0. 0. 0. 0. 0.\n",
      " 0. 0. 0. 0. 0. 0. 0. 0. 0. 0. 0. 0. 0. 0. 0. 0. 0. 0. 0. 0. 0. 0. 0. 0.\n",
      " 0. 0. 0. 0. 0. 0. 0. 0. 0. 0. 0. 0. 0. 0. 0. 0. 0. 0.]\n"
     ]
    }
   ],
   "source": [
    "print(oh_state_reps[0])"
   ]
  },
  {
   "cell_type": "code",
   "execution_count": null,
   "metadata": {
    "scrolled": true
   },
   "outputs": [
    {
     "name": "stdout",
     "output_type": "stream",
     "text": [
      "Episode: 0, Score: -2.4999999999999907 (Running Avg:-2.4999999999999907) [0.33440732955932617s]\n",
      "Episode: 100, Score: -2.4999999999999907 (Running Avg:-2.4999999999999907) [38.38099670410156s]\n",
      "Episode: 200, Score: -2.4999999999999907 (Running Avg:-2.4999999999999907) [39.469529151916504s]\n",
      "Episode: 300, Score: -2.4999999999999907 (Running Avg:-2.4999999999999907) [38.73510718345642s]\n",
      "Episode: 400, Score: -2.4999999999999907 (Running Avg:-2.4999999999999907) [39.93386149406433s]\n",
      "Episode: 500, Score: -2.4999999999999907 (Running Avg:-2.4999999999999907) [38.13181138038635s]\n",
      "Episode: 600, Score: -2.4999999999999907 (Running Avg:-2.4999999999999907) [39.892024993896484s]\n",
      "Episode: 700, Score: -2.4999999999999907 (Running Avg:-2.4999999999999907) [40.002134799957275s]\n",
      "Episode: 800, Score: -2.4999999999999907 (Running Avg:-2.4999999999999907) [39.922871589660645s]\n",
      "Episode: 900, Score: -2.4999999999999907 (Running Avg:-2.4999999999999907) [40.36606431007385s]\n",
      "Episode: 1000, Score: -2.4999999999999907 (Running Avg:-2.4999999999999907) [38.1575448513031s]\n",
      "Episode: 1100, Score: -2.4999999999999907 (Running Avg:-2.4999999999999907) [39.19744300842285s]\n",
      "Episode: 1200, Score: -2.4999999999999907 (Running Avg:-2.4999999999999907) [38.78023982048035s]\n",
      "Episode: 1300, Score: -2.4999999999999907 (Running Avg:-2.4999999999999907) [39.52947807312012s]\n",
      "Episode: 1400, Score: -2.4999999999999907 (Running Avg:-2.4999999999999907) [39.304566383361816s]\n",
      "Episode: 1500, Score: -2.4999999999999907 (Running Avg:-2.4999999999999907) [38.850545167922974s]\n",
      "Episode: 1600, Score: -2.4999999999999907 (Running Avg:-2.4999999999999907) [39.85782742500305s]\n",
      "Episode: 1700, Score: -2.4999999999999907 (Running Avg:-2.4999999999999907) [39.79002237319946s]\n",
      "Episode: 1800, Score: -2.4999999999999907 (Running Avg:-2.4999999999999907) [90.96371746063232s]\n"
     ]
    }
   ],
   "source": [
    "## onehot state representations\n",
    "for _ in range(1):\n",
    "    oh_network = Network(input_dims=[input_dims],fc1_dims=200,fc2_dims=200,output_dims=env.action_space.n, lr=0.0005)\n",
    "    oh_agent = Agent(oh_network, state_representations=oh_state_reps)\n",
    "\n",
    "    ex = expt(oh_agent,env)\n",
    "\n",
    "    num_trials = 5000\n",
    "    num_events = 250\n",
    "    ex.run(num_trials, num_events)\n",
    "\n",
    "    expt_type = 'onehot_train'\n",
    "    directory = '../../Data/'\n",
    "    filename  = 'mf_training.csv'\n",
    "\n",
    "    ex.record_log(expt_type, env_name, num_trials, num_events, dir=directory, file=filename)"
   ]
  },
  {
   "cell_type": "code",
   "execution_count": null,
   "metadata": {
    "scrolled": true
   },
   "outputs": [],
   "source": [
    "## place cell representations\n",
    "for _ in range(5):\n",
    "    pc_network = Network(input_dims=[input_dims],fc1_dims=200,fc2_dims=200,output_dims=env.action_space.n, lr=0.0005)\n",
    "    pc_agent = Agent(pc_network, state_representations=pc_state_reps)\n",
    "\n",
    "    ex = expt(pc_agent,env)\n",
    "\n",
    "    num_trials = 5000\n",
    "    num_events = 250\n",
    "    ex.run(num_trials, num_events)\n",
    "\n",
    "    expt_type = 'place_cell_train'\n",
    "    directory = '../../Data/'\n",
    "    filename  = 'mf_training.csv'\n",
    "    \n",
    "    ex.data['place_cells'] = place_cells\n",
    "    \n",
    "    extras = [place_cells.field_size]\n",
    "\n",
    "    ex.record_log(expt_type, env_name, num_trials, num_events, dir=directory, file=filename, extra=extras)"
   ]
  },
  {
   "cell_type": "code",
   "execution_count": null,
   "metadata": {},
   "outputs": [],
   "source": [
    "## place cell representations\n",
    "for f in [0.1]:\n",
    "    for e in range(5):\n",
    "        env_name = f'gym_grid:gridworld-v{e+1}'\n",
    "        env = gym.make(env_name)\n",
    "        place_cells = PlaceCells(env.shape, 200, field_size=f)\n",
    "        pc_state_reps = {}\n",
    "\n",
    "        for state in env.useable:\n",
    "            pc_state_reps[env.twoD2oneD(state)] = place_cells.get_activities([state])[0]\n",
    "            \n",
    "        input_dims = len(pc_state_reps[list(pc_state_reps.keys())[0]])\n",
    "\n",
    "        for _ in range(5):\n",
    "            pc_network = Network(input_dims=[input_dims],fc1_dims=200,fc2_dims=200,output_dims=env.action_space.n, lr=0.0005)\n",
    "            pc_agent = Agent(pc_network, state_representations=pc_state_reps)\n",
    "\n",
    "            ex = expt(pc_agent,env)\n",
    "\n",
    "            num_trials = 5000\n",
    "            num_events = 250\n",
    "            ex.run(num_trials, num_events)\n",
    "\n",
    "            expt_type = 'place_cell_train'\n",
    "            directory = '../../Data/'\n",
    "            filename  = 'mf_training.csv'\n",
    "\n",
    "            ex.data['place_cells'] = place_cells.cell_centres\n",
    "\n",
    "            extras = [input_dims, place_cells.field_size]\n",
    "\n",
    "            ex.record_log(expt_type, env_name, num_trials, num_events, dir=directory, file=filename, extra=extras)"
   ]
  },
  {
   "cell_type": "code",
   "execution_count": null,
   "metadata": {},
   "outputs": [],
   "source": [
    "# successor representations\n",
    "with open(f'../../modules/Agents/RepresentationLearning/SR_{env_name}.p', 'rb') as f:\n",
    "    sr_ = pickle.load(f)"
   ]
  },
  {
   "cell_type": "code",
   "execution_count": null,
   "metadata": {},
   "outputs": [],
   "source": [
    "sr_reps = {}\n",
    "SR = np.sum(sr_, axis = 0)\n",
    "for index in range(SR.shape[0]):\n",
    "    sr_reps[index] = SR[index]"
   ]
  },
  {
   "cell_type": "code",
   "execution_count": null,
   "metadata": {},
   "outputs": [],
   "source": [
    "index = 250\n",
    "plt.figure()\n",
    "plt.imshow(sr_reps[index].reshape(*env.shape))\n",
    "plt.show()"
   ]
  },
  {
   "cell_type": "code",
   "execution_count": null,
   "metadata": {},
   "outputs": [],
   "source": [
    "## successor representations\n",
    "sr_reps = {}\n",
    "SR = np.sum(sr_, axis = 0)\n",
    "for index in range(SR.shape[0]):\n",
    "    sr_reps[index] = SR[index]\n",
    "    \n",
    "for _ in range(1):\n",
    "    input_dims = len(sr_reps[list(sr_reps.keys())[0]])\n",
    "    \n",
    "    sr_network = Network(input_dims=[input_dims],fc1_dims=200,fc2_dims=200,output_dims=env.action_space.n, lr=0.0005)\n",
    "    sr_agent = Agent(sr_network, state_representations=sr_reps)\n",
    "\n",
    "    ex = expt(sr_agent,env)\n",
    "\n",
    "    num_trials = 5000\n",
    "    num_events = 250\n",
    "    ex.run(num_trials, num_events)\n",
    "\n",
    "    expt_type = 'sr_train_with_rec'\n",
    "    directory = '../../Data/'\n",
    "    filename  = 'mf_training.csv'\n",
    "\n",
    "    ex.record_log(expt_type, env_name, num_trials, num_events, dir=directory, file=filename)"
   ]
  },
  {
   "cell_type": "code",
   "execution_count": null,
   "metadata": {},
   "outputs": [],
   "source": [
    "print(ex.data['P_snap'][-1])"
   ]
  },
  {
   "cell_type": "code",
   "execution_count": null,
   "metadata": {},
   "outputs": [],
   "source": [
    "from Utils.gridworld_plotting import *"
   ]
  },
  {
   "cell_type": "code",
   "execution_count": null,
   "metadata": {},
   "outputs": [],
   "source": [
    "index = 5000-1\n",
    "plot_pref_pol(env, ex.data['P_snap'][index])"
   ]
  },
  {
   "cell_type": "code",
   "execution_count": null,
   "metadata": {},
   "outputs": [],
   "source": [
    "### testing \n",
    "df = pd.read_csv('../../Data/mf_training.csv')\n",
    "\n",
    "for j in range(len(df)):\n",
    "    print(i)\n",
    "    i = int(j+130)\n",
    "    line = df.iloc[i]\n",
    "    if line['pass']=='pass':\n",
    "        pass\n",
    "    else:\n",
    "        run_id    = line['run_id']\n",
    "        env_type  = line['env_type']\n",
    "        expt_type = line['expt_type']\n",
    "        num_cells = line['Num_inputs']\n",
    "\n",
    "        # make environment\n",
    "        env = gym.make(env_type)\n",
    "        # remap reward \n",
    "        env.set_reward({(15,15):10})\n",
    "\n",
    "        # make network\n",
    "        network = torch.load(f'../../Data/agents/{run_id}.pt')\n",
    "\n",
    "        # get state representations\n",
    "        if expt_type == 'onehot_train':\n",
    "            print(\"Using Onehot Representation\")\n",
    "            state_reps = {}\n",
    "            for state in env.useable:\n",
    "                state_reps[env.twoD2oneD(state)] = one_hot_state(env,env.twoD2oneD(state))\n",
    "\n",
    "        elif expt_type == 'place_cell_train':\n",
    "            print(\"Using Place Cell Representation\")\n",
    "            fs = line['PlaceCell_fieldsize']\n",
    "            with open(f'../../Data/results/{run_id}_data.p', 'rb') as f:\n",
    "                cell_centres = pickle.load(f)['place_cells']\n",
    "            state_reps = {}\n",
    "            pcs = PlaceCells(env.shape,num_cells=int(num_cells), field_size=fs, cell_centres=cell_centres)\n",
    "            for state in env.useable:\n",
    "                state_reps[env.twoD2oneD(state)] = pcs.get_activities([state])[0]\n",
    "\n",
    "        if expt_type[0:8] == 'sr_train':\n",
    "            print(\"Using Successor Representation\")\n",
    "            with open(f'../../modules/Agents/RepresentationLearning/SR_{env_type}.p', 'rb') as f:\n",
    "                sr_ = pickle.load(f)\n",
    "\n",
    "            state_reps = {}\n",
    "            SR = np.sum(sr_, axis = 0)\n",
    "            for index in range(SR.shape[0]):\n",
    "                state_reps[index] = SR[index]\n",
    "\n",
    "        # make agent\n",
    "        agent = Agent(network, state_representations=state_reps)\n",
    "\n",
    "        # make experiment\n",
    "        ex = expt(agent,env)\n",
    "\n",
    "        num_trials = 5000\n",
    "        num_events = 250\n",
    "        # run experiment\n",
    "        ex.run(num_trials, num_events)\n",
    "\n",
    "        # log results \n",
    "        expt_type = f'{expt_type[:-6]}_testing'\n",
    "        directory = '../../Data/'\n",
    "        filename  = 'mf_testing.csv'\n",
    "\n",
    "        if expt_type == 'place_cell_train':\n",
    "            ex.data['place_cells'] = place_cells.cell_centres\n",
    "\n",
    "        extras = [run_id]\n",
    "\n",
    "        ex.record_log(expt_type, env_type, num_trials, num_events, dir=directory, file=filename, extra=extras,\n",
    "                     mock_log=False)\n"
   ]
  },
  {
   "cell_type": "code",
   "execution_count": null,
   "metadata": {},
   "outputs": [],
   "source": [
    "print(expt_type[:-6])"
   ]
  },
  {
   "cell_type": "code",
   "execution_count": null,
   "metadata": {},
   "outputs": [],
   "source": [
    "print(state_reps.keys())"
   ]
  },
  {
   "cell_type": "code",
   "execution_count": null,
   "metadata": {},
   "outputs": [],
   "source": [
    "print(expt_type[0:8])"
   ]
  },
  {
   "cell_type": "code",
   "execution_count": null,
   "metadata": {},
   "outputs": [],
   "source": [
    "## with EC\n",
    "### testing \n",
    "df = pd.read_csv('../../Data/mf_training.csv')\n",
    "\n",
    "for j in range(len(df)):    \n",
    "    i = int(j)\n",
    "    if i ==0:\n",
    "        pass\n",
    "    line = df.iloc[i]\n",
    "    if line['pass']=='pass':\n",
    "        pass\n",
    "    else:\n",
    "        run_id    = line['run_id']\n",
    "        env_type  = line['env_type']\n",
    "        expt_type = line['expt_type']\n",
    "        num_cells = line['Num_inputs']\n",
    "\n",
    "        # make environment\n",
    "        env = gym.make(env_type)\n",
    "        # remap reward \n",
    "        env.set_reward({(15,15):10})\n",
    "\n",
    "        # make network\n",
    "        network = torch.load(f'../../Data/agents/{run_id}.pt')\n",
    "\n",
    "        # get state representations\n",
    "        if expt_type == 'onehot_train':\n",
    "            print(\"Using Onehot Representation\")\n",
    "            state_reps = {}\n",
    "            for state in env.useable:\n",
    "                state_reps[env.twoD2oneD(state)] = one_hot_state(env,env.twoD2oneD(state))\n",
    "\n",
    "        elif expt_type == 'place_cell_train':\n",
    "            print(\"Using Place Cell Representation\")\n",
    "            fs = line['PlaceCell_fieldsize']\n",
    "            with open(f'../../Data/results/{run_id}_data.p', 'rb') as f:\n",
    "                cell_centres = pickle.load(f)['place_cells']\n",
    "            state_reps = {}\n",
    "            pcs = PlaceCells(env.shape,num_cells=int(num_cells), field_size=fs, cell_centres=cell_centres)\n",
    "            for state in env.useable:\n",
    "                state_reps[env.twoD2oneD(state)] = pcs.get_activities([state])[0]\n",
    "\n",
    "        if expt_type[0:8] == 'sr_train':\n",
    "            print(\"Using Successor Representation\")\n",
    "            with open(f'../../modules/Agents/RepresentationLearning/SR_{env_type}.p', 'rb') as f:\n",
    "                sr_ = pickle.load(f)\n",
    "\n",
    "            state_reps = {}\n",
    "            SR = np.sum(sr_, axis = 0)\n",
    "            for index in range(SR.shape[0]):\n",
    "                state_reps[index] = SR[index]\n",
    "        \n",
    "        # make memory\n",
    "        memory = Memory(cache_limit=400, entry_size=env.action_space.n)\n",
    "        # make agent\n",
    "        agent = Agent(network, state_representations=state_reps, memory=memory)\n",
    "        agent.get_action = agent.EC_action\n",
    "        # make experiment\n",
    "        ex = expt(agent,env)\n",
    "\n",
    "        num_trials = 1000\n",
    "        num_events = 250\n",
    "        # run experiment\n",
    "        ex.run(num_trials, num_events)\n",
    "\n",
    "        # log results \n",
    "        expt_type = f'{expt_type[:-6]}_testing'\n",
    "        directory = '../../Data/'\n",
    "        filename  = 'ec_testing.csv'\n",
    "\n",
    "        if expt_type == 'place_cell_train':\n",
    "            ex.data['place_cells'] = place_cells.cell_centres\n",
    "\n",
    "        extras = [run_id]\n",
    "\n",
    "        ex.record_log(expt_type, env_type, num_trials, num_events, dir=directory, file=filename, extra=extras,\n",
    "                     mock_log=False)"
   ]
  },
  {
   "cell_type": "code",
   "execution_count": null,
   "metadata": {},
   "outputs": [],
   "source": []
  }
 ],
 "metadata": {
  "kernelspec": {
   "display_name": "Python 3",
   "language": "python",
   "name": "python3"
  },
  "language_info": {
   "codemirror_mode": {
    "name": "ipython",
    "version": 3
   },
   "file_extension": ".py",
   "mimetype": "text/x-python",
   "name": "python",
   "nbconvert_exporter": "python",
   "pygments_lexer": "ipython3",
   "version": "3.8.5"
  }
 },
 "nbformat": 4,
 "nbformat_minor": 4
}
