{
 "cells": [
  {
   "cell_type": "code",
   "execution_count": 46,
   "metadata": {},
   "outputs": [],
   "source": [
    "import numpy as np\n",
    "import matplotlib.pyplot as plt \n",
    "import pickle \n",
    "import sys\n",
    "\n",
    "import os \n",
    "sys.path.insert(0, '/../../basic/')\n",
    "from modules.Utils import running_mean as rm \n",
    "from modules.Agents.RepresentationLearning import place_cells\n",
    "sys.path.insert(0, '../..basic/modules/Agents/RepresentationLearning/')\n",
    "from Agents.RepresentationLearning.place_cells import place_cells"
   ]
  },
  {
   "cell_type": "code",
   "execution_count": 49,
   "metadata": {},
   "outputs": [],
   "source": [
    "class place_cells(object):\n",
    "    def __init__(self, env_shape, num_cells, field_size):\n",
    "        self.env_shape = env_shape\n",
    "        self.num_cells = num_cells\n",
    "        self.field_size = field_size\n",
    "        self.cell_centres = self.get_cell_centres()\n",
    "\n",
    "    def get_cell_centres(self):\n",
    "        cell_centres = []\n",
    "        for i in range(self.num_cells):\n",
    "            x, y = np.random.random(2)\n",
    "            cell_centres.append((x,y))\n",
    "        return np.asarray(cell_centres)\n",
    "\n",
    "    # define normalized 2D gaussian\n",
    "    def gaus2d(self, state):\n",
    "        x  = state[0]\n",
    "        y  = state[1]\n",
    "        mx = self.cell_centres[:,0]\n",
    "        my = self.cell_centres[:,1]\n",
    "        sx = sy = self.field_size\n",
    "        return 1. / (2. * np.pi * sx * sy) * np.exp(-((x - mx)**2. / (2. * sx**2.) + (y - my)**2. / (2. * sy**2.)))\n",
    "\n",
    "    def get_activities(self, states):\n",
    "        # TODO - array operation\n",
    "        activities = []\n",
    "        for state in states:\n",
    "            xy_state = (state[1]/self.env_shape[1], state[0]/self.env_shape[0]) # input state as (x, y) in [0,1] i.e. portion of total grid area\n",
    "            place_cell_activity = self.gaus2d(xy_state)\n",
    "            activities.append(place_cell_activity)\n",
    "        return np.asarray(activities)\n",
    "\n",
    "    def plot_placefields(self, env_states_to_map, num_pc_view=9):\n",
    "        states = np.asarray(env_states_to_map)\n",
    "        gridworld_pc_reps = self.get_activities(env_states_to_map)\n",
    "        get_rand_cells = np.random.choice(self.env_shape[0]*self.env_shape[1],num_pc_view,replace=False)\n",
    "\n",
    "        num_rows = int(np.ceil(np.sqrt(num_pc_view)))\n",
    "        num_col = int(np.ceil(np.sqrt(num_pc_view)))\n",
    "        fig, axes = plt.subplots(num_rows,num_col)\n",
    "\n",
    "        for i, ax in enumerate(axes.flat):\n",
    "            if i >= num_pc_view:\n",
    "                ax.axis('off')\n",
    "            else:\n",
    "                # for every state, get what the place cell activity is\n",
    "                ax.scatter(states[:,1],states[:,0], c =gridworld_pc_reps[:,get_rand_cells[i]])\n",
    "                cell_center = np.round(np.multiply(self.cell_centres[get_rand_cells[i]],self.env_shape),1)\n",
    "                ax.set_title(f'{cell_center}')\n",
    "                ax.set_yticks([])\n",
    "                ax.set_xticks([])\n",
    "                ax.invert_yaxis()\n",
    "                ax.set_aspect('equal')\n",
    "        #plt.show()\n",
    "        return get_rand_cells"
   ]
  },
  {
   "cell_type": "code",
   "execution_count": 50,
   "metadata": {},
   "outputs": [],
   "source": [
    "data_dir = '../Data/results/'\n",
    "\n",
    "oh = ['c4632834-1950-4487-8a15-14cf6dd4a330',\n",
    "'73159540-face-484e-8372-49933a5b40bd',\n",
    "'3712bc3e-75de-4e35-af75-8eed11f7f387',\n",
    "'bc75125e-446b-43a6-89dc-a35c3003e6e6',\n",
    "'a8d11e6f-63cc-417d-8d4a-a6429c2f52da']\n",
    "\n",
    "pc = [\n",
    "'9f562faa-41dd-415f-afdb-33488309b170',\n",
    "'86368121-9f72-44c7-a2d5-0b25f2039695',\n",
    "'d598273d-c994-498d-86cb-9b7fad29aecf',\n",
    "'93840aff-8148-41ac-a7e0-2d93cde1c820',\n",
    "'9f8e85c4-c160-4662-9464-b661e510fa47'\n",
    "]\n",
    "\n",
    "pc_02 = ['15fc5ae4-20b8-453c-ac42-fa296e7b8754',\n",
    "'8411546a-ddca-4045-a32f-575f4d5b9ad2',\n",
    "'5947b44b-ba3d-42e5-8850-54e9b06a95a8',\n",
    "'969d4b03-4285-4041-ae14-b230712a8dfa',\n",
    "'0111aa72-4cab-4c0c-941a-12723c196c2c'\n",
    "]\n",
    "\n",
    "pc_03 = ['3dd4e397-88a0-478c-b9e0-e4b36553ad00',\n",
    "'f6faf752-5e6e-48ca-9196-6229ca69c4c7',\n",
    "'32733a64-5003-4ca4-8ec3-04f4b936d2de',\n",
    "'888cbd85-6298-4df4-9658-ac359b197d42',\n",
    "'d357f0a2-dd63-4e15-a225-25c78fb23c7a'\n",
    "]\n",
    "\n",
    "big_dict = {'oh':oh, 'pc':pc, 'pc_02':pc_02, 'pc_03':pc_03}"
   ]
  },
  {
   "cell_type": "code",
   "execution_count": 53,
   "metadata": {},
   "outputs": [
    {
     "name": "stdout",
     "output_type": "stream",
     "text": [
      "dict_keys(['total_reward', 'loss', 'trial_length', 'EC_snap', 'P_snap', 'V_snap'])\n"
     ]
    },
    {
     "ename": "ModuleNotFoundError",
     "evalue": "No module named 'basic'",
     "output_type": "error",
     "traceback": [
      "\u001b[0;31m---------------------------------------------------------------------------\u001b[0m",
      "\u001b[0;31mModuleNotFoundError\u001b[0m                       Traceback (most recent call last)",
      "\u001b[0;32m<ipython-input-53-2f7f7ee2d246>\u001b[0m in \u001b[0;36m<module>\u001b[0;34m\u001b[0m\n\u001b[1;32m      2\u001b[0m \u001b[0mprint\u001b[0m\u001b[0;34m(\u001b[0m\u001b[0mtest_reward\u001b[0m\u001b[0;34m.\u001b[0m\u001b[0mkeys\u001b[0m\u001b[0;34m(\u001b[0m\u001b[0;34m)\u001b[0m\u001b[0;34m)\u001b[0m\u001b[0;34m\u001b[0m\u001b[0;34m\u001b[0m\u001b[0m\n\u001b[1;32m      3\u001b[0m \u001b[0;34m\u001b[0m\u001b[0m\n\u001b[0;32m----> 4\u001b[0;31m \u001b[0mtest_reward\u001b[0m \u001b[0;34m=\u001b[0m \u001b[0mpickle\u001b[0m\u001b[0;34m.\u001b[0m\u001b[0mload\u001b[0m\u001b[0;34m(\u001b[0m\u001b[0mopen\u001b[0m\u001b[0;34m(\u001b[0m\u001b[0mdata_dir\u001b[0m\u001b[0;34m+\u001b[0m\u001b[0;34m'5947b44b-ba3d-42e5-8850-54e9b06a95a8_data.p'\u001b[0m\u001b[0;34m,\u001b[0m\u001b[0;34m'rb'\u001b[0m\u001b[0;34m)\u001b[0m\u001b[0;34m)\u001b[0m\u001b[0;34m[\u001b[0m\u001b[0;34m'total_reward'\u001b[0m\u001b[0;34m]\u001b[0m\u001b[0;34m\u001b[0m\u001b[0;34m\u001b[0m\u001b[0m\n\u001b[0m\u001b[1;32m      5\u001b[0m \u001b[0;34m\u001b[0m\u001b[0m\n\u001b[1;32m      6\u001b[0m \u001b[0;32mdef\u001b[0m \u001b[0mget_avg_std\u001b[0m\u001b[0;34m(\u001b[0m\u001b[0mlist_of_ids\u001b[0m\u001b[0;34m)\u001b[0m\u001b[0;34m:\u001b[0m\u001b[0;34m\u001b[0m\u001b[0;34m\u001b[0m\u001b[0m\n",
      "\u001b[0;31mModuleNotFoundError\u001b[0m: No module named 'basic'"
     ]
    }
   ],
   "source": [
    "test_reward = pickle.load(open(data_dir+'c4632834-1950-4487-8a15-14cf6dd4a330_data.p','rb'))\n",
    "print(test_reward.keys())\n",
    "\n",
    "test_reward = pickle.load(open(data_dir+'5947b44b-ba3d-42e5-8850-54e9b06a95a8_data.p','rb'))['total_reward']\n",
    "\n",
    "def get_avg_std(list_of_ids):\n",
    "    results = []\n",
    "    for id_num in list_of_ids: \n",
    "        print(id_num)\n",
    "        with open(data_dir+ f'{id_num}_data.p', 'rb') as f:\n",
    "            dats = pickle.loads(f)\n",
    "            reward_info = dats['total_reward']\n",
    "            results.append(reward_info)\n",
    "            \n",
    "    pp = np.vstack(results)\n",
    "    \n",
    "    smoothing = 100\n",
    "    avg_ = rm(np.mean(pp,axis=0),smoothing)[0:2000]\n",
    "    std_ = rm(np.std(pp, axis=0), smoothing)[0:2000]\n",
    "    \n",
    "    return avg_, std_"
   ]
  },
  {
   "cell_type": "code",
   "execution_count": 14,
   "metadata": {},
   "outputs": [
    {
     "name": "stdout",
     "output_type": "stream",
     "text": [
      "9f562faa-41dd-415f-afdb-33488309b170\n"
     ]
    },
    {
     "ename": "TypeError",
     "evalue": "a bytes-like object is required, not '_io.BufferedReader'",
     "output_type": "error",
     "traceback": [
      "\u001b[0;31m---------------------------------------------------------------------------\u001b[0m",
      "\u001b[0;31mTypeError\u001b[0m                                 Traceback (most recent call last)",
      "\u001b[0;32m<ipython-input-14-2b8fd3697c64>\u001b[0m in \u001b[0;36m<module>\u001b[0;34m\u001b[0m\n\u001b[1;32m      1\u001b[0m \u001b[0mresults_dict\u001b[0m \u001b[0;34m=\u001b[0m \u001b[0;34m{\u001b[0m\u001b[0;34m}\u001b[0m\u001b[0;34m\u001b[0m\u001b[0;34m\u001b[0m\u001b[0m\n\u001b[0;32m----> 2\u001b[0;31m \u001b[0mav\u001b[0m\u001b[0;34m,\u001b[0m \u001b[0mst\u001b[0m \u001b[0;34m=\u001b[0m \u001b[0mget_avg_std\u001b[0m\u001b[0;34m(\u001b[0m\u001b[0mpc\u001b[0m\u001b[0;34m)\u001b[0m\u001b[0;34m\u001b[0m\u001b[0;34m\u001b[0m\u001b[0m\n\u001b[0m\u001b[1;32m      3\u001b[0m \u001b[0mresults_dict\u001b[0m\u001b[0;34m[\u001b[0m\u001b[0;34m'pc'\u001b[0m\u001b[0;34m]\u001b[0m \u001b[0;34m=\u001b[0m \u001b[0;34m[\u001b[0m\u001b[0mav\u001b[0m\u001b[0;34m,\u001b[0m\u001b[0mst\u001b[0m\u001b[0;34m]\u001b[0m\u001b[0;34m\u001b[0m\u001b[0;34m\u001b[0m\u001b[0m\n",
      "\u001b[0;32m<ipython-input-13-3755e9dfef46>\u001b[0m in \u001b[0;36mget_avg_std\u001b[0;34m(list_of_ids)\u001b[0m\n\u001b[1;32m      4\u001b[0m         \u001b[0mprint\u001b[0m\u001b[0;34m(\u001b[0m\u001b[0mid_num\u001b[0m\u001b[0;34m)\u001b[0m\u001b[0;34m\u001b[0m\u001b[0;34m\u001b[0m\u001b[0m\n\u001b[1;32m      5\u001b[0m         \u001b[0;32mwith\u001b[0m \u001b[0mopen\u001b[0m\u001b[0;34m(\u001b[0m\u001b[0mdata_dir\u001b[0m\u001b[0;34m+\u001b[0m \u001b[0;34mf'{id_num}_data.p'\u001b[0m\u001b[0;34m,\u001b[0m \u001b[0;34m'rb'\u001b[0m\u001b[0;34m)\u001b[0m \u001b[0;32mas\u001b[0m \u001b[0mf\u001b[0m\u001b[0;34m:\u001b[0m\u001b[0;34m\u001b[0m\u001b[0;34m\u001b[0m\u001b[0m\n\u001b[0;32m----> 6\u001b[0;31m             \u001b[0mdats\u001b[0m \u001b[0;34m=\u001b[0m \u001b[0mpickle\u001b[0m\u001b[0;34m.\u001b[0m\u001b[0mloads\u001b[0m\u001b[0;34m(\u001b[0m\u001b[0mf\u001b[0m\u001b[0;34m)\u001b[0m\u001b[0;34m\u001b[0m\u001b[0;34m\u001b[0m\u001b[0m\n\u001b[0m\u001b[1;32m      7\u001b[0m             \u001b[0mreward_info\u001b[0m \u001b[0;34m=\u001b[0m \u001b[0mdats\u001b[0m\u001b[0;34m[\u001b[0m\u001b[0;34m'total_reward'\u001b[0m\u001b[0;34m]\u001b[0m\u001b[0;34m\u001b[0m\u001b[0;34m\u001b[0m\u001b[0m\n\u001b[1;32m      8\u001b[0m             \u001b[0mresults\u001b[0m\u001b[0;34m.\u001b[0m\u001b[0mappend\u001b[0m\u001b[0;34m(\u001b[0m\u001b[0mreward_info\u001b[0m\u001b[0;34m)\u001b[0m\u001b[0;34m\u001b[0m\u001b[0;34m\u001b[0m\u001b[0m\n",
      "\u001b[0;31mTypeError\u001b[0m: a bytes-like object is required, not '_io.BufferedReader'"
     ]
    }
   ],
   "source": [
    "results_dict = {}\n",
    "av, st = get_avg_std(pc)\n",
    "results_dict['pc'] = [av,st]"
   ]
  },
  {
   "cell_type": "code",
   "execution_count": null,
   "metadata": {},
   "outputs": [],
   "source": [
    "import os\n",
    "print(os.getcwd())"
   ]
  },
  {
   "cell_type": "code",
   "execution_count": null,
   "metadata": {},
   "outputs": [],
   "source": []
  },
  {
   "cell_type": "code",
   "execution_count": null,
   "metadata": {},
   "outputs": [],
   "source": []
  },
  {
   "cell_type": "code",
   "execution_count": null,
   "metadata": {},
   "outputs": [],
   "source": [
    "plt.figure()\n",
    "plt.plot(avg_, label='OH')\n",
    "plt.fill_between(np.arange(2000),avg_-std_, avg_+std_, alpha=0.3)"
   ]
  },
  {
   "cell_type": "code",
   "execution_count": null,
   "metadata": {},
   "outputs": [],
   "source": []
  }
 ],
 "metadata": {
  "kernelspec": {
   "display_name": "Python 3",
   "language": "python",
   "name": "python3"
  },
  "language_info": {
   "codemirror_mode": {
    "name": "ipython",
    "version": 3
   },
   "file_extension": ".py",
   "mimetype": "text/x-python",
   "name": "python",
   "nbconvert_exporter": "python",
   "pygments_lexer": "ipython3",
   "version": "3.8.5"
  }
 },
 "nbformat": 4,
 "nbformat_minor": 4
}
